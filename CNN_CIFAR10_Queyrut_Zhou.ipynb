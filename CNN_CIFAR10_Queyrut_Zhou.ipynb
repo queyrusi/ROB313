{
  "nbformat": 4,
  "nbformat_minor": 0,
  "metadata": {
    "colab": {
      "name": "vgg16_for_CIFAR10.ipynb",
      "provenance": [],
      "collapsed_sections": [],
      "toc_visible": true
    },
    "kernelspec": {
      "name": "python3",
      "display_name": "Python 3"
    },
    "accelerator": "GPU"
  },
  "cells": [
    {
      "cell_type": "code",
      "metadata": {
        "colab_type": "code",
        "deletable": true,
        "editable": true,
        "id": "GkjN23FKt2D-",
        "colab": {}
      },
      "source": [
        "%matplotlib inline"
      ],
      "execution_count": 0,
      "outputs": []
    },
    {
      "cell_type": "code",
      "metadata": {
        "id": "nnee2WPudA9K",
        "colab_type": "code",
        "colab": {}
      },
      "source": [
        "# Python 2/3 compatibility\n",
        "from __future__ import print_function, division\n",
        "\n",
        "import itertools\n",
        "import time\n",
        "\n",
        "\n",
        "import numpy as np\n",
        "import matplotlib.pyplot as plt\n",
        "\n",
        "# Colors from Colorbrewer Paired_12\n",
        "colors = [[31, 120, 180], [51, 160, 44]]\n",
        "colors = [(r / 255, g / 255, b / 255) for (r, g, b) in colors]\n",
        "\n",
        "# functions to show an image\n",
        "def imshow(img):\n",
        "    \"\"\"\n",
        "    :param img: (PyTorch Tensor)\n",
        "    \"\"\"\n",
        "    # unnormalize\n",
        "    img = img / 2 + 0.5     \n",
        "    # Convert tensor to numpy array\n",
        "    npimg = img.numpy()\n",
        "    # Color channel first -> color channel last\n",
        "    plt.imshow(np.transpose(npimg, (1, 2, 0)))\n",
        "\n",
        "\n",
        "\n",
        "def plot_losses(train_history, val_history):\n",
        "    x = np.arange(1, len(train_history) + 1)\n",
        "\n",
        "    plt.figure(figsize=(8, 6))\n",
        "    plt.plot(x, train_history, color=colors[0], label=\"Training loss\", linewidth=2)\n",
        "    plt.plot(x, val_history, color=colors[1], label=\"Validation loss\", linewidth=2)\n",
        "    plt.xlabel('Epoch')\n",
        "    plt.ylabel('Loss')\n",
        "    plt.legend(loc='upper right')\n",
        "    plt.title(\"Evolution of the training and validation loss\")\n",
        "    plt.show()\n",
        "\n",
        "def plot_confusion_matrix(cm, classes,\n",
        "                          normalize=False,\n",
        "                          title='Confusion matrix',\n",
        "                          cmap=plt.cm.Blues):\n",
        "    \"\"\"\n",
        "    This function prints and plots the confusion matrix.\n",
        "    Normalization can be applied by setting `normalize=True`.\n",
        "    from http://scikit-learn.org/stable/auto_examples/model_selection/plot_confusion_matrix.html\n",
        "    :param cm: (numpy matrix) confusion matrix\n",
        "    :param classes: [str]\n",
        "    :param normalize: (bool)\n",
        "    :param title: (str)\n",
        "    :param cmap: (matplotlib color map)\n",
        "    \"\"\"\n",
        "    if normalize:\n",
        "        cm = cm.astype('float') / cm.sum(axis=1)[:, np.newaxis]\n",
        "        \n",
        "    plt.figure(figsize=(8, 8))   \n",
        "    plt.imshow(cm, interpolation='nearest', cmap=cmap)\n",
        "    plt.title(title)\n",
        "    plt.colorbar()\n",
        "    tick_marks = np.arange(len(classes))\n",
        "    plt.xticks(tick_marks, classes, rotation=45)\n",
        "    plt.yticks(tick_marks, classes)\n",
        "\n",
        "    fmt = '.2f' if normalize else 'd'\n",
        "    thresh = cm.max() / 2.\n",
        "    for i, j in itertools.product(range(cm.shape[0]), range(cm.shape[1])):\n",
        "        plt.text(j, i, format(cm[i, j], fmt),\n",
        "                 horizontalalignment=\"center\",\n",
        "                 color=\"white\" if cm[i, j] > thresh else \"black\")\n",
        "\n",
        "    plt.tight_layout()\n",
        "    plt.ylabel('True label')\n",
        "    plt.xlabel('Predicted label')"
      ],
      "execution_count": 0,
      "outputs": []
    },
    {
      "cell_type": "markdown",
      "metadata": {
        "deletable": true,
        "editable": true,
        "id": "UWTdj2uYcax7",
        "colab_type": "text"
      },
      "source": [
        "### 1. Loading and normalizing CIFAR10 Dataset\n",
        "\n",
        "Using ``torchvision``, it’s extremely easy to load CIFAR10."
      ]
    },
    {
      "cell_type": "code",
      "metadata": {
        "colab_type": "code",
        "deletable": true,
        "editable": true,
        "id": "KRrvrIi0t2Em",
        "colab": {}
      },
      "source": [
        "import torch as th\n",
        "import torch\n",
        "import numpy as np\n",
        "import torchvision\n",
        "import torchvision.transforms as transforms"
      ],
      "execution_count": 0,
      "outputs": []
    },
    {
      "cell_type": "markdown",
      "metadata": {
        "deletable": true,
        "editable": true,
        "id": "iX2ltR_zcayA",
        "colab_type": "text"
      },
      "source": [
        "Seed the random generator to have reproducible results:"
      ]
    },
    {
      "cell_type": "code",
      "metadata": {
        "deletable": true,
        "editable": true,
        "id": "335xvR6acayB",
        "colab_type": "code",
        "colab": {}
      },
      "source": [
        "seed = 42\n",
        "np.random.seed(seed)\n",
        "torch.manual_seed(seed)\n",
        "\n",
        "if th.cuda.is_available():\n",
        "  # Make CuDNN Determinist\n",
        "  th.backends.cudnn.deterministic = True\n",
        "  th.cuda.manual_seed(seed)\n",
        "\n",
        "# Define default device, we should use the GPU (cuda) if available\n",
        "device = th.device(\"cuda\" if th.cuda.is_available() else \"cpu\")\n"
      ],
      "execution_count": 0,
      "outputs": []
    },
    {
      "cell_type": "markdown",
      "metadata": {
        "deletable": true,
        "editable": true,
        "id": "7EzIeyD4cayG",
        "colab_type": "text"
      },
      "source": [
        "### Define subset of the dataset (so it is faster to train)"
      ]
    },
    {
      "cell_type": "code",
      "metadata": {
        "deletable": true,
        "editable": true,
        "id": "Nwu-wWh3cayI",
        "colab_type": "code",
        "colab": {}
      },
      "source": [
        "from torch.utils.data.sampler import SubsetRandomSampler\n",
        "\n",
        "n_training_samples = 20000 # Max: 50 000 - n_val_samples\n",
        "n_val_samples = 5000\n",
        "n_test_samples = 5000\n",
        "\n",
        "train_sampler = SubsetRandomSampler(np.arange(n_training_samples, dtype=np.int64))\n",
        "val_sampler = SubsetRandomSampler(np.arange(n_training_samples, n_training_samples + n_val_samples, dtype=np.int64))\n",
        "test_sampler = SubsetRandomSampler(np.arange(n_test_samples, dtype=np.int64))\n",
        "# (In the last case, indexes do not need to account for training ones because the train=False parameter in datasets.CIFAR will select from the test set)"
      ],
      "execution_count": 0,
      "outputs": []
    },
    {
      "cell_type": "markdown",
      "metadata": {
        "colab_type": "text",
        "deletable": true,
        "editable": true,
        "id": "evFXNmbst2Ez"
      },
      "source": [
        "The output of torchvision datasets are PILImage images of range [0, 1].\n",
        "We transform them to Tensors of normalized range [-1, 1]\n",
        "\n"
      ]
    },
    {
      "cell_type": "code",
      "metadata": {
        "colab_type": "code",
        "deletable": true,
        "editable": true,
        "id": "ZJ-hYN00t2E2",
        "outputId": "5e7ab3b2-ca5e-48a0-8e06-989085a464af",
        "colab": {
          "base_uri": "https://localhost:8080/",
          "height": 51
        }
      },
      "source": [
        "num_workers = 2\n",
        "test_batch_size = 4\n",
        "\n",
        "transform = transforms.Compose(\n",
        "    [transforms.ToTensor(),\n",
        "     transforms.Normalize(mean=(0.5, 0.5, 0.5), std=(0.5, 0.5, 0.5))])\n",
        "\n",
        "train_set = torchvision.datasets.CIFAR10(root='./data', train=True,\n",
        "                                        download=True, transform=transform)\n",
        "\n",
        "train_loader = torch.utils.data.DataLoader(train_set, batch_size=test_batch_size, sampler=train_sampler,\n",
        "                                          num_workers=num_workers)\n",
        "\n",
        "test_set = torchvision.datasets.CIFAR10(root='./data', train=False,\n",
        "                                       download=True, transform=transform)\n",
        "test_loader = torch.utils.data.DataLoader(test_set, batch_size=test_batch_size, sampler=test_sampler,\n",
        "                                         num_workers=num_workers)\n",
        "\n",
        "classes = ('plane', 'car', 'bird', 'cat',\n",
        "           'deer', 'dog', 'frog', 'horse', 'ship', 'truck')"
      ],
      "execution_count": 12,
      "outputs": [
        {
          "output_type": "stream",
          "text": [
            "Files already downloaded and verified\n",
            "Files already downloaded and verified\n"
          ],
          "name": "stdout"
        }
      ]
    },
    {
      "cell_type": "markdown",
      "metadata": {
        "colab_type": "text",
        "deletable": true,
        "editable": true,
        "id": "8ULHEu5Zt2Fa"
      },
      "source": [
        "### 2. Define a Convolution Neural Network\n"
      ]
    },
    {
      "cell_type": "code",
      "metadata": {
        "deletable": true,
        "editable": true,
        "id": "6k6rJyTTcayi",
        "colab_type": "code",
        "colab": {}
      },
      "source": [
        "# Useful imports\n",
        "import torch.nn as nn\n",
        "import torch.nn.functional as F"
      ],
      "execution_count": 0,
      "outputs": []
    },
    {
      "cell_type": "markdown",
      "metadata": {
        "deletable": true,
        "editable": true,
        "id": "rbykSRDTcaym",
        "colab_type": "text"
      },
      "source": [
        "#### Simple Convolutional Neural Network\n",
        "\n",
        "ConvNet with one convolution layer followed by a max pooling operation,\n",
        "one fully connected layer and an output layer"
      ]
    },
    {
      "cell_type": "code",
      "metadata": {
        "deletable": true,
        "editable": true,
        "id": "X4pljAWycayn",
        "colab_type": "code",
        "colab": {}
      },
      "source": [
        "class SimpleConvolutionalNetwork(nn.Module):\n",
        "    def __init__(self):\n",
        "        super(SimpleConvolutionalNetwork, self).__init__()\n",
        "        \n",
        "        self.conv1 = nn.Conv2d(3, 18, kernel_size=3, stride=1, padding=1)\n",
        "        self.pool = nn.MaxPool2d(kernel_size=2, stride=2, padding=0)\n",
        "        \n",
        "        # cf comments in forward() to have step by step comments\n",
        "        # on the shape (how we pass from a 3x32x32 input image to a 18x16x16 volume)\n",
        "        self.fc1 = nn.Linear(18 * 16 * 16, 64) \n",
        "        self.fc2 = nn.Linear(64, 10)\n",
        "\n",
        "    def forward(self, x):\n",
        "        \"\"\"\n",
        "        Forward pass,\n",
        "        x shape is (batch_size, 3, 32, 32)\n",
        "        (color channel first)\n",
        "        in the comments, we omit the batch_size in the shape\n",
        "        \"\"\"\n",
        "        # shape : 3x32x32 -> 18x32x32\n",
        "        x = F.relu(self.conv1(x))\n",
        "        # 18x32x32 -> 18x16x16\n",
        "        x = self.pool(x)\n",
        "        # 18x16x16 -> 4608\n",
        "        x = x.view(-1, 18 * 16 * 16)\n",
        "        # 4608 -> 64\n",
        "        x = F.relu(self.fc1(x))\n",
        "        # 64 -> 10\n",
        "        # The softmax non-linearity is applied later (cf createLossAndOptimizer() fn)\n",
        "        x = self.fc2(x)\n",
        "        return x"
      ],
      "execution_count": 0,
      "outputs": []
    },
    {
      "cell_type": "markdown",
      "metadata": {
        "deletable": true,
        "editable": true,
        "id": "4m-VHCtRcayr",
        "colab_type": "text"
      },
      "source": [
        "#### Linear Classifier"
      ]
    },
    {
      "cell_type": "code",
      "metadata": {
        "deletable": true,
        "editable": true,
        "id": "Rj-togN6cays",
        "colab_type": "code",
        "colab": {}
      },
      "source": [
        "class LinearClassifier(nn.Module):\n",
        "    \"\"\"\n",
        "    Linear Classifier\n",
        "    \"\"\"\n",
        "    def __init__(self):\n",
        "        super(LinearClassifier, self).__init__()\n",
        "        self.linear = nn.Linear(32 * 32 * 3, 10)\n",
        "\n",
        "    def forward(self, x):\n",
        "        # Flatten input 3x32x32 -> 3072\n",
        "        x = x.view(x.size(0), -1)\n",
        "        return self.linear(x)"
      ],
      "execution_count": 0,
      "outputs": []
    },
    {
      "cell_type": "markdown",
      "metadata": {
        "colab_type": "text",
        "deletable": true,
        "editable": true,
        "id": "2SQi9Xf-t2Fu"
      },
      "source": [
        "### 3. Define a loss function and optimizer\n",
        "\n",
        "Let's use a Classification Cross-Entropy loss and ADAM (optionally, SGD with momentum). You can read more about  [optimization methods](https://pytorch.org/docs/stable/optim.html).\n",
        "\n"
      ]
    },
    {
      "cell_type": "code",
      "metadata": {
        "colab_type": "code",
        "deletable": true,
        "editable": true,
        "id": "DOUiPtZQt2Fx",
        "colab": {}
      },
      "source": [
        "import torch.optim as optim\n",
        "\n",
        "def createLossAndOptimizer(net, learning_rate=0.001):\n",
        "    # it combines softmax with negative log likelihood loss\n",
        "    criterion = nn.CrossEntropyLoss()  \n",
        "    # optimizer = optim.SGD(net.parameters(), lr=learning_rate, momentum=0.9)\n",
        "    # optimizer = optim.Adam(net.parameters(), lr=learning_rate)\n",
        "    optimizer = optim.Adam(net.parameters(), lr=learning_rate, weight_decay=0.01)\n",
        "    return criterion, optimizer"
      ],
      "execution_count": 0,
      "outputs": []
    },
    {
      "cell_type": "markdown",
      "metadata": {
        "colab_type": "text",
        "deletable": true,
        "editable": true,
        "id": "saJW5bKRt2F9"
      },
      "source": [
        "### 4. Train the network\n",
        "\n",
        "\n",
        "This is when things start to get interesting.\n",
        "We simply have to loop over our data iterator, feed the inputs to the network, and optimize\n",
        "\n"
      ]
    },
    {
      "cell_type": "markdown",
      "metadata": {
        "deletable": true,
        "editable": true,
        "id": "mNf1e8QZcay1",
        "colab_type": "text"
      },
      "source": [
        "#### Data loader"
      ]
    },
    {
      "cell_type": "code",
      "metadata": {
        "deletable": true,
        "editable": true,
        "id": "EqDD8_z8cay2",
        "colab_type": "code",
        "colab": {}
      },
      "source": [
        "def get_train_loader(batch_size):\n",
        "    return torch.utils.data.DataLoader(train_set, batch_size=batch_size, sampler=train_sampler,\n",
        "                                              num_workers=num_workers)\n",
        "\n",
        "# Use larger batch size for validation to speed up computation\n",
        "val_loader = torch.utils.data.DataLoader(train_set, batch_size=128, sampler=val_sampler,\n",
        "                                          num_workers=num_workers)"
      ],
      "execution_count": 0,
      "outputs": []
    },
    {
      "cell_type": "markdown",
      "metadata": {
        "deletable": true,
        "editable": true,
        "id": "yTDHHbLpcay5",
        "colab_type": "text"
      },
      "source": [
        "#### Training loop\n",
        "The training script: it takes ~10s per epoch with batch_size = 32"
      ]
    },
    {
      "cell_type": "code",
      "metadata": {
        "colab_type": "code",
        "deletable": true,
        "editable": true,
        "id": "dATbDR5pt2GE",
        "colab": {}
      },
      "source": [
        "def train(net, batch_size, n_epochs, learning_rate):\n",
        "    \"\"\"\n",
        "    Train a neural network and print statistics of the training\n",
        "    \n",
        "    :param net: (PyTorch Neural Network)\n",
        "    :param batch_size: (int)\n",
        "    :param n_epochs: (int)  Number of iterations on the training set\n",
        "    :param learning_rate: (float) learning rate used by the optimizer\n",
        "    \"\"\"\n",
        "    print(\"===== HYPERPARAMETERS =====\")\n",
        "    print(\"batch_size=\", batch_size)\n",
        "    print(\"n_epochs=\", n_epochs)\n",
        "    print(\"learning_rate=\", learning_rate)\n",
        "    print(\"=\" * 30)\n",
        "    \n",
        "    train_loader = get_train_loader(batch_size)\n",
        "    n_minibatches = len(train_loader)\n",
        "\n",
        "    criterion, optimizer = createLossAndOptimizer(net, learning_rate)\n",
        "    # Init variables used for plotting the loss\n",
        "    train_history = []\n",
        "    val_history = []\n",
        "\n",
        "    training_start_time = time.time()\n",
        "    best_error = np.inf\n",
        "    best_model_path = \"best_model.pth\"\n",
        "    \n",
        "    # Move model to gpu if possible\n",
        "    net = net.to(device)\n",
        "\n",
        "    for epoch in range(n_epochs):  # loop over the dataset multiple times\n",
        "\n",
        "        running_loss = 0.0\n",
        "        print_every = n_minibatches // 10\n",
        "        start_time = time.time()\n",
        "        total_train_loss = 0\n",
        "        \n",
        "        for i, (inputs, labels) in enumerate(train_loader):\n",
        "\n",
        "            # Move tensors to correct device\n",
        "            inputs, labels = inputs.to(device), labels.to(device)\n",
        "\n",
        "            # zero the parameter gradients\n",
        "            optimizer.zero_grad()\n",
        "\n",
        "            # forward + backward + optimize\n",
        "            outputs = net(inputs)\n",
        "            loss = criterion(outputs, labels)\n",
        "            loss.backward()\n",
        "            optimizer.step()\n",
        "\n",
        "            # print statistics\n",
        "            running_loss += loss.item()\n",
        "            total_train_loss += loss.item()\n",
        "\n",
        "            # print every 10th of epoch\n",
        "            if (i + 1) % (print_every + 1) == 0:    \n",
        "                print(\"Epoch {}, {:d}% \\t train_loss: {:.2f} took: {:.2f}s\".format(\n",
        "                      epoch + 1, int(100 * (i + 1) / n_minibatches), running_loss / print_every,\n",
        "                      time.time() - start_time))\n",
        "                running_loss = 0.0\n",
        "                start_time = time.time()\n",
        "\n",
        "        train_history.append(total_train_loss / len(train_loader))\n",
        "\n",
        "        total_val_loss = 0\n",
        "        # Do a pass on the validation set\n",
        "        # We don't need to compute gradient,\n",
        "        # we save memory and computation using th.no_grad()\n",
        "        with th.no_grad():\n",
        "          for inputs, labels in val_loader:\n",
        "              # Move tensors to correct device\n",
        "              inputs, labels = inputs.to(device), labels.to(device)\n",
        "              # Forward pass\n",
        "              predictions = net(inputs)\n",
        "              val_loss = criterion(predictions, labels)\n",
        "              total_val_loss += val_loss.item()\n",
        "            \n",
        "        val_history.append(total_val_loss / len(val_loader))\n",
        "        # Save model that performs best on validation set\n",
        "        if total_val_loss < best_error:\n",
        "            best_error = total_val_loss\n",
        "            th.save(net.state_dict(), best_model_path)\n",
        "\n",
        "        print(\"Validation loss = {:.2f}\".format(total_val_loss / len(val_loader)))\n",
        "\n",
        "    print(\"Training Finished, took {:.2f}s\".format(time.time() - training_start_time))\n",
        "    \n",
        "    # Load best model\n",
        "    net.load_state_dict(th.load(best_model_path))\n",
        "    \n",
        "    return train_history, val_history"
      ],
      "execution_count": 0,
      "outputs": []
    },
    {
      "cell_type": "code",
      "metadata": {
        "deletable": true,
        "editable": true,
        "id": "cJX2anB5cay_",
        "colab_type": "code",
        "outputId": "89000065-3aae-4865-f2ee-c84afd1d0ccb",
        "colab": {
          "base_uri": "https://localhost:8080/",
          "height": 1000
        }
      },
      "source": [
        "net = SimpleConvolutionalNetwork()\n",
        "\n",
        "train_history, val_history = train(net, batch_size=32, n_epochs=30, learning_rate=0.001)"
      ],
      "execution_count": 19,
      "outputs": [
        {
          "output_type": "stream",
          "text": [
            "===== HYPERPARAMETERS =====\n",
            "batch_size= 32\n",
            "n_epochs= 30\n",
            "learning_rate= 0.001\n",
            "==============================\n",
            "Epoch 1, 10% \t train_loss: 2.12 took: 0.61s\n",
            "Epoch 1, 20% \t train_loss: 1.86 took: 0.52s\n",
            "Epoch 1, 30% \t train_loss: 1.80 took: 0.52s\n",
            "Epoch 1, 40% \t train_loss: 1.76 took: 0.52s\n",
            "Epoch 1, 50% \t train_loss: 1.64 took: 0.52s\n",
            "Epoch 1, 60% \t train_loss: 1.59 took: 0.49s\n",
            "Epoch 1, 70% \t train_loss: 1.59 took: 0.53s\n",
            "Epoch 1, 80% \t train_loss: 1.58 took: 0.51s\n",
            "Epoch 1, 90% \t train_loss: 1.57 took: 0.54s\n",
            "Validation loss = 1.44\n",
            "Epoch 2, 10% \t train_loss: 1.45 took: 0.60s\n",
            "Epoch 2, 20% \t train_loss: 1.48 took: 0.52s\n",
            "Epoch 2, 30% \t train_loss: 1.50 took: 0.53s\n",
            "Epoch 2, 40% \t train_loss: 1.47 took: 0.50s\n",
            "Epoch 2, 50% \t train_loss: 1.47 took: 0.53s\n",
            "Epoch 2, 60% \t train_loss: 1.43 took: 0.52s\n",
            "Epoch 2, 70% \t train_loss: 1.40 took: 0.51s\n",
            "Epoch 2, 80% \t train_loss: 1.42 took: 0.52s\n",
            "Epoch 2, 90% \t train_loss: 1.47 took: 0.53s\n",
            "Validation loss = 1.41\n",
            "Epoch 3, 10% \t train_loss: 1.41 took: 0.66s\n",
            "Epoch 3, 20% \t train_loss: 1.36 took: 0.52s\n",
            "Epoch 3, 30% \t train_loss: 1.40 took: 0.52s\n",
            "Epoch 3, 40% \t train_loss: 1.36 took: 0.53s\n",
            "Epoch 3, 50% \t train_loss: 1.41 took: 0.53s\n",
            "Epoch 3, 60% \t train_loss: 1.39 took: 0.51s\n",
            "Epoch 3, 70% \t train_loss: 1.40 took: 0.52s\n",
            "Epoch 3, 80% \t train_loss: 1.35 took: 0.51s\n",
            "Epoch 3, 90% \t train_loss: 1.42 took: 0.53s\n",
            "Validation loss = 1.42\n",
            "Epoch 4, 10% \t train_loss: 1.31 took: 0.61s\n",
            "Epoch 4, 20% \t train_loss: 1.32 took: 0.52s\n",
            "Epoch 4, 30% \t train_loss: 1.35 took: 0.55s\n",
            "Epoch 4, 40% \t train_loss: 1.38 took: 0.59s\n",
            "Epoch 4, 50% \t train_loss: 1.37 took: 0.55s\n",
            "Epoch 4, 60% \t train_loss: 1.38 took: 0.54s\n",
            "Epoch 4, 70% \t train_loss: 1.35 took: 0.53s\n",
            "Epoch 4, 80% \t train_loss: 1.32 took: 0.54s\n",
            "Epoch 4, 90% \t train_loss: 1.36 took: 0.52s\n",
            "Validation loss = 1.30\n",
            "Epoch 5, 10% \t train_loss: 1.31 took: 0.59s\n",
            "Epoch 5, 20% \t train_loss: 1.30 took: 0.53s\n",
            "Epoch 5, 30% \t train_loss: 1.30 took: 0.51s\n",
            "Epoch 5, 40% \t train_loss: 1.32 took: 0.52s\n",
            "Epoch 5, 50% \t train_loss: 1.32 took: 0.53s\n",
            "Epoch 5, 60% \t train_loss: 1.37 took: 0.52s\n",
            "Epoch 5, 70% \t train_loss: 1.31 took: 0.54s\n",
            "Epoch 5, 80% \t train_loss: 1.35 took: 0.54s\n",
            "Epoch 5, 90% \t train_loss: 1.31 took: 0.51s\n",
            "Validation loss = 1.28\n",
            "Epoch 6, 10% \t train_loss: 1.26 took: 0.59s\n",
            "Epoch 6, 20% \t train_loss: 1.28 took: 0.53s\n",
            "Epoch 6, 30% \t train_loss: 1.30 took: 0.49s\n",
            "Epoch 6, 40% \t train_loss: 1.31 took: 0.53s\n",
            "Epoch 6, 50% \t train_loss: 1.30 took: 0.50s\n",
            "Epoch 6, 60% \t train_loss: 1.30 took: 0.52s\n",
            "Epoch 6, 70% \t train_loss: 1.29 took: 0.53s\n",
            "Epoch 6, 80% \t train_loss: 1.36 took: 0.55s\n",
            "Epoch 6, 90% \t train_loss: 1.28 took: 0.52s\n",
            "Validation loss = 1.28\n",
            "Epoch 7, 10% \t train_loss: 1.25 took: 0.58s\n",
            "Epoch 7, 20% \t train_loss: 1.27 took: 0.52s\n",
            "Epoch 7, 30% \t train_loss: 1.29 took: 0.53s\n",
            "Epoch 7, 40% \t train_loss: 1.23 took: 0.53s\n",
            "Epoch 7, 50% \t train_loss: 1.28 took: 0.52s\n",
            "Epoch 7, 60% \t train_loss: 1.29 took: 0.52s\n",
            "Epoch 7, 70% \t train_loss: 1.27 took: 0.53s\n",
            "Epoch 7, 80% \t train_loss: 1.30 took: 0.52s\n",
            "Epoch 7, 90% \t train_loss: 1.32 took: 0.53s\n",
            "Validation loss = 1.26\n",
            "Epoch 8, 10% \t train_loss: 1.25 took: 0.59s\n",
            "Epoch 8, 20% \t train_loss: 1.21 took: 0.52s\n",
            "Epoch 8, 30% \t train_loss: 1.24 took: 0.50s\n",
            "Epoch 8, 40% \t train_loss: 1.27 took: 0.52s\n",
            "Epoch 8, 50% \t train_loss: 1.30 took: 0.52s\n",
            "Epoch 8, 60% \t train_loss: 1.24 took: 0.53s\n",
            "Epoch 8, 70% \t train_loss: 1.31 took: 0.54s\n",
            "Epoch 8, 80% \t train_loss: 1.27 took: 0.61s\n",
            "Epoch 8, 90% \t train_loss: 1.28 took: 0.55s\n",
            "Validation loss = 1.24\n",
            "Epoch 9, 10% \t train_loss: 1.22 took: 0.60s\n",
            "Epoch 9, 20% \t train_loss: 1.20 took: 0.50s\n",
            "Epoch 9, 30% \t train_loss: 1.25 took: 0.52s\n",
            "Epoch 9, 40% \t train_loss: 1.24 took: 0.51s\n",
            "Epoch 9, 50% \t train_loss: 1.27 took: 0.49s\n",
            "Epoch 9, 60% \t train_loss: 1.26 took: 0.55s\n",
            "Epoch 9, 70% \t train_loss: 1.24 took: 0.51s\n",
            "Epoch 9, 80% \t train_loss: 1.21 took: 0.53s\n",
            "Epoch 9, 90% \t train_loss: 1.35 took: 0.52s\n",
            "Validation loss = 1.25\n",
            "Epoch 10, 10% \t train_loss: 1.21 took: 0.60s\n",
            "Epoch 10, 20% \t train_loss: 1.21 took: 0.54s\n",
            "Epoch 10, 30% \t train_loss: 1.21 took: 0.54s\n",
            "Epoch 10, 40% \t train_loss: 1.21 took: 0.51s\n",
            "Epoch 10, 50% \t train_loss: 1.24 took: 0.53s\n",
            "Epoch 10, 60% \t train_loss: 1.26 took: 0.53s\n",
            "Epoch 10, 70% \t train_loss: 1.27 took: 0.53s\n",
            "Epoch 10, 80% \t train_loss: 1.26 took: 0.53s\n",
            "Epoch 10, 90% \t train_loss: 1.21 took: 0.53s\n",
            "Validation loss = 1.24\n",
            "Epoch 11, 10% \t train_loss: 1.19 took: 0.60s\n",
            "Epoch 11, 20% \t train_loss: 1.20 took: 0.51s\n",
            "Epoch 11, 30% \t train_loss: 1.21 took: 0.52s\n",
            "Epoch 11, 40% \t train_loss: 1.18 took: 0.50s\n",
            "Epoch 11, 50% \t train_loss: 1.24 took: 0.53s\n",
            "Epoch 11, 60% \t train_loss: 1.24 took: 0.52s\n",
            "Epoch 11, 70% \t train_loss: 1.25 took: 0.54s\n",
            "Epoch 11, 80% \t train_loss: 1.27 took: 0.53s\n",
            "Epoch 11, 90% \t train_loss: 1.25 took: 0.53s\n",
            "Validation loss = 1.28\n",
            "Epoch 12, 10% \t train_loss: 1.18 took: 0.60s\n",
            "Epoch 12, 20% \t train_loss: 1.18 took: 0.51s\n",
            "Epoch 12, 30% \t train_loss: 1.19 took: 0.53s\n",
            "Epoch 12, 40% \t train_loss: 1.19 took: 0.53s\n",
            "Epoch 12, 50% \t train_loss: 1.21 took: 0.52s\n",
            "Epoch 12, 60% \t train_loss: 1.20 took: 0.54s\n",
            "Epoch 12, 70% \t train_loss: 1.22 took: 0.53s\n",
            "Epoch 12, 80% \t train_loss: 1.21 took: 0.52s\n",
            "Epoch 12, 90% \t train_loss: 1.24 took: 0.53s\n",
            "Validation loss = 1.24\n",
            "Epoch 13, 10% \t train_loss: 1.18 took: 0.61s\n",
            "Epoch 13, 20% \t train_loss: 1.15 took: 0.51s\n",
            "Epoch 13, 30% \t train_loss: 1.20 took: 0.54s\n",
            "Epoch 13, 40% \t train_loss: 1.21 took: 0.51s\n",
            "Epoch 13, 50% \t train_loss: 1.21 took: 0.53s\n",
            "Epoch 13, 60% \t train_loss: 1.22 took: 0.55s\n",
            "Epoch 13, 70% \t train_loss: 1.17 took: 0.53s\n",
            "Epoch 13, 80% \t train_loss: 1.23 took: 0.51s\n",
            "Epoch 13, 90% \t train_loss: 1.20 took: 0.52s\n",
            "Validation loss = 1.26\n",
            "Epoch 14, 10% \t train_loss: 1.17 took: 0.60s\n",
            "Epoch 14, 20% \t train_loss: 1.14 took: 0.51s\n",
            "Epoch 14, 30% \t train_loss: 1.15 took: 0.54s\n",
            "Epoch 14, 40% \t train_loss: 1.17 took: 0.55s\n",
            "Epoch 14, 50% \t train_loss: 1.19 took: 0.62s\n",
            "Epoch 14, 60% \t train_loss: 1.19 took: 0.55s\n",
            "Epoch 14, 70% \t train_loss: 1.22 took: 0.51s\n",
            "Epoch 14, 80% \t train_loss: 1.21 took: 0.52s\n",
            "Epoch 14, 90% \t train_loss: 1.20 took: 0.52s\n",
            "Validation loss = 1.19\n",
            "Epoch 15, 10% \t train_loss: 1.14 took: 0.59s\n",
            "Epoch 15, 20% \t train_loss: 1.15 took: 0.54s\n",
            "Epoch 15, 30% \t train_loss: 1.19 took: 0.53s\n",
            "Epoch 15, 40% \t train_loss: 1.23 took: 0.52s\n",
            "Epoch 15, 50% \t train_loss: 1.17 took: 0.53s\n",
            "Epoch 15, 60% \t train_loss: 1.13 took: 0.55s\n",
            "Epoch 15, 70% \t train_loss: 1.19 took: 0.54s\n",
            "Epoch 15, 80% \t train_loss: 1.19 took: 0.54s\n",
            "Epoch 15, 90% \t train_loss: 1.21 took: 0.54s\n",
            "Validation loss = 1.25\n",
            "Epoch 16, 10% \t train_loss: 1.13 took: 0.61s\n",
            "Epoch 16, 20% \t train_loss: 1.14 took: 0.53s\n",
            "Epoch 16, 30% \t train_loss: 1.18 took: 0.53s\n",
            "Epoch 16, 40% \t train_loss: 1.16 took: 0.53s\n",
            "Epoch 16, 50% \t train_loss: 1.20 took: 0.51s\n",
            "Epoch 16, 60% \t train_loss: 1.22 took: 0.52s\n",
            "Epoch 16, 70% \t train_loss: 1.16 took: 0.52s\n",
            "Epoch 16, 80% \t train_loss: 1.19 took: 0.53s\n",
            "Epoch 16, 90% \t train_loss: 1.18 took: 0.55s\n",
            "Validation loss = 1.20\n",
            "Epoch 17, 10% \t train_loss: 1.07 took: 0.58s\n",
            "Epoch 17, 20% \t train_loss: 1.13 took: 0.52s\n",
            "Epoch 17, 30% \t train_loss: 1.14 took: 0.53s\n",
            "Epoch 17, 40% \t train_loss: 1.15 took: 0.52s\n",
            "Epoch 17, 50% \t train_loss: 1.18 took: 0.51s\n",
            "Epoch 17, 60% \t train_loss: 1.23 took: 0.53s\n",
            "Epoch 17, 70% \t train_loss: 1.18 took: 0.52s\n",
            "Epoch 17, 80% \t train_loss: 1.18 took: 0.52s\n",
            "Epoch 17, 90% \t train_loss: 1.17 took: 0.52s\n",
            "Validation loss = 1.20\n",
            "Epoch 18, 10% \t train_loss: 1.11 took: 0.60s\n",
            "Epoch 18, 20% \t train_loss: 1.14 took: 0.59s\n",
            "Epoch 18, 30% \t train_loss: 1.15 took: 0.59s\n",
            "Epoch 18, 40% \t train_loss: 1.17 took: 0.50s\n",
            "Epoch 18, 50% \t train_loss: 1.18 took: 0.51s\n",
            "Epoch 18, 60% \t train_loss: 1.17 took: 0.53s\n",
            "Epoch 18, 70% \t train_loss: 1.19 took: 0.52s\n",
            "Epoch 18, 80% \t train_loss: 1.14 took: 0.52s\n",
            "Epoch 18, 90% \t train_loss: 1.18 took: 0.53s\n",
            "Validation loss = 1.19\n",
            "Epoch 19, 10% \t train_loss: 1.09 took: 0.60s\n",
            "Epoch 19, 20% \t train_loss: 1.06 took: 0.51s\n",
            "Epoch 19, 30% \t train_loss: 1.13 took: 0.52s\n",
            "Epoch 19, 40% \t train_loss: 1.14 took: 0.51s\n",
            "Epoch 19, 50% \t train_loss: 1.14 took: 0.52s\n",
            "Epoch 19, 60% \t train_loss: 1.12 took: 0.51s\n",
            "Epoch 19, 70% \t train_loss: 1.19 took: 0.53s\n",
            "Epoch 19, 80% \t train_loss: 1.18 took: 0.53s\n",
            "Epoch 19, 90% \t train_loss: 1.19 took: 0.52s\n",
            "Validation loss = 1.19\n",
            "Epoch 20, 10% \t train_loss: 1.02 took: 0.61s\n",
            "Epoch 20, 20% \t train_loss: 1.09 took: 0.52s\n",
            "Epoch 20, 30% \t train_loss: 1.14 took: 0.54s\n",
            "Epoch 20, 40% \t train_loss: 1.14 took: 0.51s\n",
            "Epoch 20, 50% \t train_loss: 1.18 took: 0.56s\n",
            "Epoch 20, 60% \t train_loss: 1.19 took: 0.51s\n",
            "Epoch 20, 70% \t train_loss: 1.16 took: 0.54s\n",
            "Epoch 20, 80% \t train_loss: 1.17 took: 0.51s\n",
            "Epoch 20, 90% \t train_loss: 1.17 took: 0.51s\n",
            "Validation loss = 1.20\n",
            "Epoch 21, 10% \t train_loss: 1.05 took: 0.62s\n",
            "Epoch 21, 20% \t train_loss: 1.06 took: 0.50s\n",
            "Epoch 21, 30% \t train_loss: 1.12 took: 0.53s\n",
            "Epoch 21, 40% \t train_loss: 1.11 took: 0.51s\n",
            "Epoch 21, 50% \t train_loss: 1.15 took: 0.52s\n",
            "Epoch 21, 60% \t train_loss: 1.17 took: 0.51s\n",
            "Epoch 21, 70% \t train_loss: 1.16 took: 0.53s\n",
            "Epoch 21, 80% \t train_loss: 1.17 took: 0.51s\n",
            "Epoch 21, 90% \t train_loss: 1.19 took: 0.53s\n",
            "Validation loss = 1.19\n",
            "Epoch 22, 10% \t train_loss: 1.08 took: 0.60s\n",
            "Epoch 22, 20% \t train_loss: 1.11 took: 0.53s\n",
            "Epoch 22, 30% \t train_loss: 1.06 took: 0.52s\n",
            "Epoch 22, 40% \t train_loss: 1.13 took: 0.51s\n",
            "Epoch 22, 50% \t train_loss: 1.15 took: 0.52s\n",
            "Epoch 22, 60% \t train_loss: 1.13 took: 0.53s\n",
            "Epoch 22, 70% \t train_loss: 1.17 took: 0.53s\n",
            "Epoch 22, 80% \t train_loss: 1.14 took: 0.53s\n",
            "Epoch 22, 90% \t train_loss: 1.12 took: 0.53s\n",
            "Validation loss = 1.16\n",
            "Epoch 23, 10% \t train_loss: 1.06 took: 0.61s\n",
            "Epoch 23, 20% \t train_loss: 1.05 took: 0.52s\n",
            "Epoch 23, 30% \t train_loss: 1.08 took: 0.54s\n",
            "Epoch 23, 40% \t train_loss: 1.18 took: 0.58s\n",
            "Epoch 23, 50% \t train_loss: 1.15 took: 0.60s\n",
            "Epoch 23, 60% \t train_loss: 1.13 took: 0.53s\n",
            "Epoch 23, 70% \t train_loss: 1.15 took: 0.52s\n",
            "Epoch 23, 80% \t train_loss: 1.14 took: 0.53s\n",
            "Epoch 23, 90% \t train_loss: 1.14 took: 0.52s\n",
            "Validation loss = 1.16\n",
            "Epoch 24, 10% \t train_loss: 1.04 took: 0.60s\n",
            "Epoch 24, 20% \t train_loss: 1.10 took: 0.52s\n",
            "Epoch 24, 30% \t train_loss: 1.06 took: 0.51s\n",
            "Epoch 24, 40% \t train_loss: 1.12 took: 0.52s\n",
            "Epoch 24, 50% \t train_loss: 1.11 took: 0.53s\n",
            "Epoch 24, 60% \t train_loss: 1.13 took: 0.54s\n",
            "Epoch 24, 70% \t train_loss: 1.12 took: 0.51s\n",
            "Epoch 24, 80% \t train_loss: 1.19 took: 0.56s\n",
            "Epoch 24, 90% \t train_loss: 1.12 took: 0.51s\n",
            "Validation loss = 1.18\n",
            "Epoch 25, 10% \t train_loss: 1.04 took: 0.60s\n",
            "Epoch 25, 20% \t train_loss: 1.05 took: 0.52s\n",
            "Epoch 25, 30% \t train_loss: 1.06 took: 0.56s\n",
            "Epoch 25, 40% \t train_loss: 1.10 took: 0.53s\n",
            "Epoch 25, 50% \t train_loss: 1.13 took: 0.53s\n",
            "Epoch 25, 60% \t train_loss: 1.12 took: 0.54s\n",
            "Epoch 25, 70% \t train_loss: 1.13 took: 0.53s\n",
            "Epoch 25, 80% \t train_loss: 1.17 took: 0.54s\n",
            "Epoch 25, 90% \t train_loss: 1.13 took: 0.56s\n",
            "Validation loss = 1.15\n",
            "Epoch 26, 10% \t train_loss: 1.04 took: 0.62s\n",
            "Epoch 26, 20% \t train_loss: 1.05 took: 0.52s\n",
            "Epoch 26, 30% \t train_loss: 1.07 took: 0.53s\n",
            "Epoch 26, 40% \t train_loss: 1.09 took: 0.52s\n",
            "Epoch 26, 50% \t train_loss: 1.06 took: 0.55s\n",
            "Epoch 26, 60% \t train_loss: 1.13 took: 0.52s\n",
            "Epoch 26, 70% \t train_loss: 1.14 took: 0.54s\n",
            "Epoch 26, 80% \t train_loss: 1.11 took: 0.55s\n",
            "Epoch 26, 90% \t train_loss: 1.16 took: 0.54s\n",
            "Validation loss = 1.18\n",
            "Epoch 27, 10% \t train_loss: 1.05 took: 0.61s\n",
            "Epoch 27, 20% \t train_loss: 1.08 took: 0.52s\n",
            "Epoch 27, 30% \t train_loss: 1.09 took: 0.54s\n",
            "Epoch 27, 40% \t train_loss: 1.06 took: 0.52s\n",
            "Epoch 27, 50% \t train_loss: 1.11 took: 0.52s\n",
            "Epoch 27, 60% \t train_loss: 1.12 took: 0.53s\n",
            "Epoch 27, 70% \t train_loss: 1.10 took: 0.57s\n",
            "Epoch 27, 80% \t train_loss: 1.11 took: 0.61s\n",
            "Epoch 27, 90% \t train_loss: 1.12 took: 0.52s\n",
            "Validation loss = 1.19\n",
            "Epoch 28, 10% \t train_loss: 1.01 took: 0.61s\n",
            "Epoch 28, 20% \t train_loss: 1.08 took: 0.54s\n",
            "Epoch 28, 30% \t train_loss: 1.05 took: 0.53s\n",
            "Epoch 28, 40% \t train_loss: 1.06 took: 0.55s\n",
            "Epoch 28, 50% \t train_loss: 1.11 took: 0.53s\n",
            "Epoch 28, 60% \t train_loss: 1.07 took: 0.52s\n",
            "Epoch 28, 70% \t train_loss: 1.10 took: 0.51s\n",
            "Epoch 28, 80% \t train_loss: 1.11 took: 0.52s\n",
            "Epoch 28, 90% \t train_loss: 1.17 took: 0.53s\n",
            "Validation loss = 1.14\n",
            "Epoch 29, 10% \t train_loss: 1.00 took: 0.59s\n",
            "Epoch 29, 20% \t train_loss: 1.02 took: 0.54s\n",
            "Epoch 29, 30% \t train_loss: 1.08 took: 0.52s\n",
            "Epoch 29, 40% \t train_loss: 1.09 took: 0.53s\n",
            "Epoch 29, 50% \t train_loss: 1.10 took: 0.51s\n",
            "Epoch 29, 60% \t train_loss: 1.11 took: 0.52s\n",
            "Epoch 29, 70% \t train_loss: 1.08 took: 0.53s\n",
            "Epoch 29, 80% \t train_loss: 1.10 took: 0.55s\n",
            "Epoch 29, 90% \t train_loss: 1.14 took: 0.51s\n",
            "Validation loss = 1.17\n",
            "Epoch 30, 10% \t train_loss: 1.02 took: 0.59s\n",
            "Epoch 30, 20% \t train_loss: 1.04 took: 0.53s\n",
            "Epoch 30, 30% \t train_loss: 1.08 took: 0.52s\n",
            "Epoch 30, 40% \t train_loss: 1.10 took: 0.53s\n",
            "Epoch 30, 50% \t train_loss: 1.05 took: 0.53s\n",
            "Epoch 30, 60% \t train_loss: 1.07 took: 0.55s\n",
            "Epoch 30, 70% \t train_loss: 1.09 took: 0.50s\n",
            "Epoch 30, 80% \t train_loss: 1.10 took: 0.52s\n",
            "Epoch 30, 90% \t train_loss: 1.13 took: 0.52s\n",
            "Validation loss = 1.15\n",
            "Training Finished, took 193.44s\n"
          ],
          "name": "stdout"
        }
      ]
    },
    {
      "cell_type": "markdown",
      "metadata": {
        "deletable": true,
        "editable": true,
        "id": "UkVKNPtccazC",
        "colab_type": "text"
      },
      "source": [
        "Now, let's look at the evolution of the losses"
      ]
    },
    {
      "cell_type": "code",
      "metadata": {
        "deletable": true,
        "editable": true,
        "id": "4CUQt-HJcazF",
        "colab_type": "code",
        "outputId": "dfd248d0-318d-467e-85fb-e7d7660bafcf",
        "colab": {
          "base_uri": "https://localhost:8080/",
          "height": 404
        }
      },
      "source": [
        "plot_losses(train_history, val_history)"
      ],
      "execution_count": 20,
      "outputs": [
        {
          "output_type": "display_data",
          "data": {
            "image/png": "[encoded data removed]",
            "text/plain": [
              "<Figure size 576x432 with 1 Axes>"
            ]
          },
          "metadata": {
            "tags": []
          }
        }
      ]
    },
    {
      "cell_type": "code",
      "metadata": {
        "colab_type": "code",
        "deletable": true,
        "editable": true,
        "id": "LI6JtYwTt2HM",
        "outputId": "08208539-a637-4c22-b400-af1544ff6401",
        "colab": {
          "base_uri": "https://localhost:8080/",
          "height": 85
        }
      },
      "source": [
        "def dataset_accuracy(net, data_loader, name=\"\"):\n",
        "    net = net.to(device)\n",
        "    correct = 0\n",
        "    total = 0\n",
        "    for images, labels in data_loader:\n",
        "        images, labels = images.to(device), labels.to(device)\n",
        "        outputs = net(images)\n",
        "        _, predicted = torch.max(outputs, 1)\n",
        "        total += labels.size(0)\n",
        "        correct += (predicted == labels).sum()\n",
        "    accuracy = 100 * float(correct) / total\n",
        "    print('Accuracy of the network on the {} {} images: {:.2f} %'.format(total, name, accuracy))\n",
        "\n",
        "def train_set_accuracy(net):\n",
        "    dataset_accuracy(net, train_loader, \"train\")\n",
        "\n",
        "def val_set_accuracy(net):\n",
        "    dataset_accuracy(net, val_loader, \"validation\")  \n",
        "    \n",
        "def test_set_accuracy(net):\n",
        "    dataset_accuracy(net, test_loader, \"test\")\n",
        "\n",
        "def compute_accuracy(net):\n",
        "    train_set_accuracy(net)\n",
        "    val_set_accuracy(net)\n",
        "    test_set_accuracy(net)\n",
        "    \n",
        "print(\"Computing accuracy...\")\n",
        "compute_accuracy(net)"
      ],
      "execution_count": 21,
      "outputs": [
        {
          "output_type": "stream",
          "text": [
            "Computing accuracy...\n",
            "Accuracy of the network on the 20000 train images: 67.12 %\n",
            "Accuracy of the network on the 5000 validation images: 60.42 %\n",
            "Accuracy of the network on the 5000 test images: 59.90 %\n"
          ],
          "name": "stdout"
        }
      ]
    },
    {
      "cell_type": "markdown",
      "metadata": {
        "colab_type": "text",
        "deletable": true,
        "editable": true,
        "id": "iGGyra-4t2HW"
      },
      "source": [
        "That initial 59.78 % on the test set of images looks waaay better than chance, which is 10% accuracy (randomly picking\n",
        "a class out of 10 classes).\n",
        "Seems like the network learnt something.\n",
        "As a baseline, a linear model achieves around 30% accuracy.\n",
        "\n",
        "What are the classes that performed well, and the classes that did not perform well?\n",
        "\n"
      ]
    },
    {
      "cell_type": "code",
      "metadata": {
        "colab_type": "code",
        "deletable": true,
        "editable": true,
        "id": "rkim9_INt2HY",
        "outputId": "0ed3b237-5cc4-4543-8f0b-2915def306b3",
        "colab": {
          "base_uri": "https://localhost:8080/",
          "height": 204
        }
      },
      "source": [
        "def accuracy_per_class(net):\n",
        "    net = net.to(device)\n",
        "    n_classes = 10\n",
        "    # (real, predicted)\n",
        "    confusion_matrix = np.zeros((n_classes, n_classes), dtype=np.int64)\n",
        "\n",
        "    for images, labels in test_loader:\n",
        "        images, labels = images, labels = images.to(device), labels.to(device)\n",
        "        outputs = net(images)\n",
        "        _, predicted = torch.max(outputs.data, 1)\n",
        "        for i in range(test_batch_size):\n",
        "            confusion_matrix[labels[i], predicted[i]] += 1\n",
        "            label = labels[i]\n",
        "\n",
        "    print(\"{:<10} {:^10}\".format(\"Class\", \"Accuracy (%)\"))\n",
        "    for i in range(n_classes):\n",
        "        class_total = confusion_matrix[i, :].sum()\n",
        "        class_correct = confusion_matrix[i, i]\n",
        "        percentage_correct = 100.0 * float(class_correct) / class_total\n",
        "        \n",
        "        print('{:<10} {:^10.2f}'.format(classes[i], percentage_correct))\n",
        "    return confusion_matrix\n",
        "\n",
        "confusion_matrix = accuracy_per_class(net)"
      ],
      "execution_count": 22,
      "outputs": [
        {
          "output_type": "stream",
          "text": [
            "Class      Accuracy (%)\n",
            "plane        62.91   \n",
            "car          75.64   \n",
            "bird         49.61   \n",
            "cat          33.80   \n",
            "deer         37.87   \n",
            "dog          49.80   \n",
            "frog         74.54   \n",
            "horse        67.47   \n",
            "ship         82.14   \n",
            "truck        65.30   \n"
          ],
          "name": "stdout"
        }
      ]
    },
    {
      "cell_type": "markdown",
      "metadata": {
        "deletable": true,
        "editable": true,
        "id": "AZKLymOacazg",
        "colab_type": "text"
      },
      "source": [
        "### Confusion Matrix"
      ]
    },
    {
      "cell_type": "code",
      "metadata": {
        "deletable": true,
        "editable": true,
        "id": "1aYMqD1Ocazi",
        "colab_type": "code",
        "outputId": "aeefdae1-56bd-4881-a435-d6fdb299bb5e",
        "colab": {
          "base_uri": "https://localhost:8080/",
          "height": 1000
        }
      },
      "source": [
        "# Plot normalized confusion matrix\n",
        "plot_confusion_matrix(confusion_matrix, classes, normalize=True,\n",
        "                      title='Normalized confusion matrix')\n",
        "\n",
        "# Plot non-normalized confusion matrix\n",
        "plot_confusion_matrix(confusion_matrix, classes,\n",
        "                      title='Confusion matrix, without normalization')"
      ],
      "execution_count": 23,
      "outputs": [
        {
          "output_type": "display_data",
          "data": {
            "image/png": "[encoded data removed]",
            "text/plain": [
              "<Figure size 576x576 with 2 Axes>"
            ]
          },
          "metadata": {
            "tags": []
          }
        },
        {
          "output_type": "display_data",
          "data": {
            "image/png": "[encoded data removed]",
            "text/plain": [
              "<Figure size 576x576 with 2 Axes>"
            ]
          },
          "metadata": {
            "tags": []
          }
        }
      ]
    },
    {
      "cell_type": "markdown",
      "metadata": {
        "colab_type": "text",
        "deletable": true,
        "editable": true,
        "id": "MVv-mV8Pt2Hs"
      },
      "source": [
        "# Few experiments from the report\n",
        "Below three models we used in the report. We just redefine the `MyConvolutionalNetwork` class as we go."
      ]
    },
    {
      "cell_type": "markdown",
      "metadata": {
        "id": "q3rTnFV4GcFK",
        "colab_type": "text"
      },
      "source": [
        "### 1. Default (dummy) model "
      ]
    },
    {
      "cell_type": "markdown",
      "metadata": {
        "deletable": true,
        "editable": true,
        "id": "wviV5iQIcazz",
        "colab_type": "text"
      },
      "source": [
        "Below is the neural network you have to edit:"
      ]
    },
    {
      "cell_type": "code",
      "metadata": {
        "deletable": true,
        "editable": true,
        "id": "fnKUPUDTcaz1",
        "colab_type": "code",
        "colab": {}
      },
      "source": [
        "class MyConvolutionalNetwork(nn.Module):\n",
        "    def __init__(self):\n",
        "        super(MyConvolutionalNetwork, self).__init__()\n",
        "        \n",
        "        self.conv1 = nn.Conv2d(3, 16, kernel_size=3, stride=1, padding=1)\n",
        "        self.pool = nn.MaxPool2d(kernel_size=2, stride=2, padding=0)\n",
        "\n",
        "        #### START CODE: ADD NEW LAYERS ####\n",
        "        # (do not forget to update `flattened_size`:\n",
        "        # the input size of the first fully connected layer self.fc1)\n",
        "        self.bn1 = nn.BatchNorm2d(16)\n",
        "        self.conv2 = nn.Conv2d(16, 16, kernel_size=3, stride=1, padding=1)\n",
        "        self.pool1 = nn.MaxPool2d(kernel_size=2, stride=2, padding=0)\n",
        "        self.dropout1 = nn.Dropout(p=0.35)\n",
        "        \n",
        "        # Size of the output of the last convolution:\n",
        "        self.flattened_size = 16 * 8 * 8\n",
        "        ### END CODE ###\n",
        "        \n",
        "        self.fc1 = nn.Linear(self.flattened_size, 64)\n",
        "        self.fc2 = nn.Linear(64, 10)\n",
        "\n",
        "    def forward(self, x):\n",
        "        \"\"\"\n",
        "        Forward pass,\n",
        "        x shape is (batch_size, 3, 32, 32)\n",
        "        (color channel first)\n",
        "        in the comments, we omit the batch_size in the shape\n",
        "        \"\"\"\n",
        "        # shape : 3x32x32 -> 18x32x32\n",
        "        x = F.relu(self.conv1(x))\n",
        "        # 18x32x32 -> 18x16x16\n",
        "        x = self.pool(x)\n",
        "        \n",
        "        #### START CODE: USE YOUR NEW LAYERS HERE ####\n",
        "        # x = F.relu(self.conv2(self.bn1(x)))\n",
        "        x = F.relu(self.conv2(x))\n",
        "        x = self.dropout1(x)\n",
        "        x = self.pool1(x)\n",
        "        \n",
        "        #### END CODE ####\n",
        "        \n",
        "        # Check the output size\n",
        "        output_size = np.prod(x.size()[1:])\n",
        "        assert output_size == self.flattened_size,\\\n",
        "                \"self.flattened_size is invalid {} != {}\".format(output_size, self.flattened_size)\n",
        "        \n",
        "        # 18x16x16 -> 4608\n",
        "        x = x.view(-1, self.flattened_size)\n",
        "        # 4608 -> 64\n",
        "        x = F.relu(self.fc1(x))\n",
        "        # 64 -> 10\n",
        "        x = self.fc2(x)\n",
        "        return x"
      ],
      "execution_count": 0,
      "outputs": []
    },
    {
      "cell_type": "code",
      "metadata": {
        "id": "gMrhz5O2OXEw",
        "colab_type": "code",
        "outputId": "ed89a352-92cd-46b2-8d95-9093bfe56709",
        "colab": {
          "base_uri": "https://localhost:8080/",
          "height": 187
        }
      },
      "source": [
        "net = MyConvolutionalNetwork()\n",
        "print(net)"
      ],
      "execution_count": 47,
      "outputs": [
        {
          "output_type": "stream",
          "text": [
            "MyConvolutionalNetwork(\n",
            "  (conv1): Conv2d(3, 16, kernel_size=(3, 3), stride=(1, 1), padding=(1, 1))\n",
            "  (pool): MaxPool2d(kernel_size=2, stride=2, padding=0, dilation=1, ceil_mode=False)\n",
            "  (bn1): BatchNorm2d(16, eps=1e-05, momentum=0.1, affine=True, track_running_stats=True)\n",
            "  (conv2): Conv2d(16, 16, kernel_size=(3, 3), stride=(1, 1), padding=(1, 1))\n",
            "  (pool1): MaxPool2d(kernel_size=2, stride=2, padding=0, dilation=1, ceil_mode=False)\n",
            "  (dropout1): Dropout(p=0.35, inplace=False)\n",
            "  (fc1): Linear(in_features=1024, out_features=64, bias=True)\n",
            "  (fc2): Linear(in_features=64, out_features=10, bias=True)\n",
            ")\n"
          ],
          "name": "stdout"
        }
      ]
    },
    {
      "cell_type": "code",
      "metadata": {
        "deletable": true,
        "editable": true,
        "scrolled": false,
        "id": "ruLWyTSocaz5",
        "colab_type": "code",
        "outputId": "6614192e-6899-4287-c31a-2cbc89aa3b68",
        "colab": {
          "base_uri": "https://localhost:8080/",
          "height": 1000
        }
      },
      "source": [
        "net = MyConvolutionalNetwork()\n",
        "train_history, val_history = train(net, batch_size=32, n_epochs=20, learning_rate=0.001)"
      ],
      "execution_count": 48,
      "outputs": [
        {
          "output_type": "stream",
          "text": [
            "===== HYPERPARAMETERS =====\n",
            "batch_size= 32\n",
            "n_epochs= 20\n",
            "learning_rate= 0.001\n",
            "==============================\n",
            "Epoch 1, 10% \t train_loss: 2.34 took: 0.66s\n",
            "Epoch 1, 20% \t train_loss: 2.33 took: 0.56s\n",
            "Epoch 1, 30% \t train_loss: 2.32 took: 0.53s\n",
            "Epoch 1, 40% \t train_loss: 2.30 took: 0.55s\n",
            "Epoch 1, 50% \t train_loss: 2.27 took: 0.57s\n",
            "Epoch 1, 60% \t train_loss: 2.23 took: 0.54s\n",
            "Epoch 1, 70% \t train_loss: 2.16 took: 0.54s\n",
            "Epoch 1, 80% \t train_loss: 2.09 took: 0.54s\n",
            "Epoch 1, 90% \t train_loss: 2.07 took: 0.55s\n",
            "Validation loss = 1.96\n",
            "Epoch 2, 10% \t train_loss: 1.98 took: 0.65s\n",
            "Epoch 2, 20% \t train_loss: 1.96 took: 0.61s\n",
            "Epoch 2, 30% \t train_loss: 1.90 took: 0.61s\n",
            "Epoch 2, 40% \t train_loss: 1.91 took: 0.55s\n",
            "Epoch 2, 50% \t train_loss: 1.89 took: 0.54s\n",
            "Epoch 2, 60% \t train_loss: 1.85 took: 0.54s\n",
            "Epoch 2, 70% \t train_loss: 1.82 took: 0.55s\n",
            "Epoch 2, 80% \t train_loss: 1.81 took: 0.56s\n",
            "Epoch 2, 90% \t train_loss: 1.78 took: 0.54s\n",
            "Validation loss = 1.71\n",
            "Epoch 3, 10% \t train_loss: 1.74 took: 0.65s\n",
            "Epoch 3, 20% \t train_loss: 1.73 took: 0.54s\n",
            "Epoch 3, 30% \t train_loss: 1.71 took: 0.54s\n",
            "Epoch 3, 40% \t train_loss: 1.71 took: 0.54s\n",
            "Epoch 3, 50% \t train_loss: 1.68 took: 0.56s\n",
            "Epoch 3, 60% \t train_loss: 1.69 took: 0.55s\n",
            "Epoch 3, 70% \t train_loss: 1.67 took: 0.56s\n",
            "Epoch 3, 80% \t train_loss: 1.63 took: 0.54s\n",
            "Epoch 3, 90% \t train_loss: 1.64 took: 0.55s\n",
            "Validation loss = 1.56\n",
            "Epoch 4, 10% \t train_loss: 1.56 took: 0.69s\n",
            "Epoch 4, 20% \t train_loss: 1.56 took: 0.53s\n",
            "Epoch 4, 30% \t train_loss: 1.63 took: 0.57s\n",
            "Epoch 4, 40% \t train_loss: 1.55 took: 0.54s\n",
            "Epoch 4, 50% \t train_loss: 1.52 took: 0.54s\n",
            "Epoch 4, 60% \t train_loss: 1.53 took: 0.54s\n",
            "Epoch 4, 70% \t train_loss: 1.49 took: 0.56s\n",
            "Epoch 4, 80% \t train_loss: 1.50 took: 0.54s\n",
            "Epoch 4, 90% \t train_loss: 1.50 took: 0.53s\n",
            "Validation loss = 1.44\n",
            "Epoch 5, 10% \t train_loss: 1.43 took: 0.65s\n",
            "Epoch 5, 20% \t train_loss: 1.44 took: 0.53s\n",
            "Epoch 5, 30% \t train_loss: 1.45 took: 0.53s\n",
            "Epoch 5, 40% \t train_loss: 1.45 took: 0.55s\n",
            "Epoch 5, 50% \t train_loss: 1.41 took: 0.54s\n",
            "Epoch 5, 60% \t train_loss: 1.45 took: 0.55s\n",
            "Epoch 5, 70% \t train_loss: 1.38 took: 0.53s\n",
            "Epoch 5, 80% \t train_loss: 1.46 took: 0.55s\n",
            "Epoch 5, 90% \t train_loss: 1.42 took: 0.56s\n",
            "Validation loss = 1.36\n",
            "Epoch 6, 10% \t train_loss: 1.39 took: 0.65s\n",
            "Epoch 6, 20% \t train_loss: 1.39 took: 0.53s\n",
            "Epoch 6, 30% \t train_loss: 1.38 took: 0.57s\n",
            "Epoch 6, 40% \t train_loss: 1.39 took: 0.56s\n",
            "Epoch 6, 50% \t train_loss: 1.34 took: 0.55s\n",
            "Epoch 6, 60% \t train_loss: 1.34 took: 0.57s\n",
            "Epoch 6, 70% \t train_loss: 1.35 took: 0.60s\n",
            "Epoch 6, 80% \t train_loss: 1.34 took: 0.54s\n",
            "Epoch 6, 90% \t train_loss: 1.35 took: 0.58s\n",
            "Validation loss = 1.34\n",
            "Epoch 7, 10% \t train_loss: 1.32 took: 0.75s\n",
            "Epoch 7, 20% \t train_loss: 1.37 took: 0.62s\n",
            "Epoch 7, 30% \t train_loss: 1.29 took: 0.56s\n",
            "Epoch 7, 40% \t train_loss: 1.27 took: 0.57s\n",
            "Epoch 7, 50% \t train_loss: 1.32 took: 0.56s\n",
            "Epoch 7, 60% \t train_loss: 1.26 took: 0.55s\n",
            "Epoch 7, 70% \t train_loss: 1.34 took: 0.64s\n",
            "Epoch 7, 80% \t train_loss: 1.29 took: 0.63s\n",
            "Epoch 7, 90% \t train_loss: 1.29 took: 0.60s\n",
            "Validation loss = 1.30\n",
            "Epoch 8, 10% \t train_loss: 1.26 took: 0.64s\n",
            "Epoch 8, 20% \t train_loss: 1.24 took: 0.53s\n",
            "Epoch 8, 30% \t train_loss: 1.26 took: 0.55s\n",
            "Epoch 8, 40% \t train_loss: 1.26 took: 0.54s\n",
            "Epoch 8, 50% \t train_loss: 1.25 took: 0.54s\n",
            "Epoch 8, 60% \t train_loss: 1.27 took: 0.54s\n",
            "Epoch 8, 70% \t train_loss: 1.24 took: 0.57s\n",
            "Epoch 8, 80% \t train_loss: 1.24 took: 0.55s\n",
            "Epoch 8, 90% \t train_loss: 1.26 took: 0.56s\n",
            "Validation loss = 1.22\n",
            "Epoch 9, 10% \t train_loss: 1.23 took: 0.67s\n",
            "Epoch 9, 20% \t train_loss: 1.22 took: 0.55s\n",
            "Epoch 9, 30% \t train_loss: 1.20 took: 0.55s\n",
            "Epoch 9, 40% \t train_loss: 1.22 took: 0.56s\n",
            "Epoch 9, 50% \t train_loss: 1.20 took: 0.56s\n",
            "Epoch 9, 60% \t train_loss: 1.25 took: 0.55s\n",
            "Epoch 9, 70% \t train_loss: 1.21 took: 0.55s\n",
            "Epoch 9, 80% \t train_loss: 1.20 took: 0.56s\n",
            "Epoch 9, 90% \t train_loss: 1.15 took: 0.55s\n",
            "Validation loss = 1.22\n",
            "Epoch 10, 10% \t train_loss: 1.15 took: 0.65s\n",
            "Epoch 10, 20% \t train_loss: 1.17 took: 0.53s\n",
            "Epoch 10, 30% \t train_loss: 1.18 took: 0.53s\n",
            "Epoch 10, 40% \t train_loss: 1.15 took: 0.54s\n",
            "Epoch 10, 50% \t train_loss: 1.17 took: 0.56s\n",
            "Epoch 10, 60% \t train_loss: 1.19 took: 0.56s\n",
            "Epoch 10, 70% \t train_loss: 1.19 took: 0.55s\n",
            "Epoch 10, 80% \t train_loss: 1.24 took: 0.54s\n",
            "Epoch 10, 90% \t train_loss: 1.18 took: 0.55s\n",
            "Validation loss = 1.19\n",
            "Epoch 11, 10% \t train_loss: 1.13 took: 0.65s\n",
            "Epoch 11, 20% \t train_loss: 1.10 took: 0.64s\n",
            "Epoch 11, 30% \t train_loss: 1.11 took: 0.58s\n",
            "Epoch 11, 40% \t train_loss: 1.15 took: 0.55s\n",
            "Epoch 11, 50% \t train_loss: 1.11 took: 0.53s\n",
            "Epoch 11, 60% \t train_loss: 1.13 took: 0.54s\n",
            "Epoch 11, 70% \t train_loss: 1.17 took: 0.54s\n",
            "Epoch 11, 80% \t train_loss: 1.16 took: 0.57s\n",
            "Epoch 11, 90% \t train_loss: 1.17 took: 0.54s\n",
            "Validation loss = 1.19\n",
            "Epoch 12, 10% \t train_loss: 1.11 took: 0.68s\n",
            "Epoch 12, 20% \t train_loss: 1.11 took: 0.53s\n",
            "Epoch 12, 30% \t train_loss: 1.13 took: 0.57s\n",
            "Epoch 12, 40% \t train_loss: 1.14 took: 0.53s\n",
            "Epoch 12, 50% \t train_loss: 1.10 took: 0.55s\n",
            "Epoch 12, 60% \t train_loss: 1.09 took: 0.54s\n",
            "Epoch 12, 70% \t train_loss: 1.12 took: 0.56s\n",
            "Epoch 12, 80% \t train_loss: 1.09 took: 0.54s\n",
            "Epoch 12, 90% \t train_loss: 1.08 took: 0.55s\n",
            "Validation loss = 1.14\n",
            "Epoch 13, 10% \t train_loss: 1.07 took: 0.69s\n",
            "Epoch 13, 20% \t train_loss: 1.04 took: 0.55s\n",
            "Epoch 13, 30% \t train_loss: 1.10 took: 0.57s\n",
            "Epoch 13, 40% \t train_loss: 1.08 took: 0.56s\n",
            "Epoch 13, 50% \t train_loss: 1.06 took: 0.55s\n",
            "Epoch 13, 60% \t train_loss: 1.07 took: 0.55s\n",
            "Epoch 13, 70% \t train_loss: 1.09 took: 0.54s\n",
            "Epoch 13, 80% \t train_loss: 1.07 took: 0.54s\n",
            "Epoch 13, 90% \t train_loss: 1.07 took: 0.54s\n",
            "Validation loss = 1.14\n",
            "Epoch 14, 10% \t train_loss: 1.08 took: 0.64s\n",
            "Epoch 14, 20% \t train_loss: 1.06 took: 0.55s\n",
            "Epoch 14, 30% \t train_loss: 1.04 took: 0.54s\n",
            "Epoch 14, 40% \t train_loss: 1.05 took: 0.54s\n",
            "Epoch 14, 50% \t train_loss: 1.00 took: 0.56s\n",
            "Epoch 14, 60% \t train_loss: 1.05 took: 0.55s\n",
            "Epoch 14, 70% \t train_loss: 1.02 took: 0.55s\n",
            "Epoch 14, 80% \t train_loss: 1.03 took: 0.54s\n",
            "Epoch 14, 90% \t train_loss: 1.03 took: 0.54s\n",
            "Validation loss = 1.13\n",
            "Epoch 15, 10% \t train_loss: 0.99 took: 0.69s\n",
            "Epoch 15, 20% \t train_loss: 0.99 took: 0.56s\n",
            "Epoch 15, 30% \t train_loss: 1.01 took: 0.54s\n",
            "Epoch 15, 40% \t train_loss: 1.03 took: 0.55s\n",
            "Epoch 15, 50% \t train_loss: 1.02 took: 0.55s\n",
            "Epoch 15, 60% \t train_loss: 1.00 took: 0.56s\n",
            "Epoch 15, 70% \t train_loss: 1.01 took: 0.55s\n",
            "Epoch 15, 80% \t train_loss: 1.05 took: 0.57s\n",
            "Epoch 15, 90% \t train_loss: 1.03 took: 0.55s\n",
            "Validation loss = 1.10\n",
            "Epoch 16, 10% \t train_loss: 0.93 took: 0.74s\n",
            "Epoch 16, 20% \t train_loss: 1.01 took: 0.56s\n",
            "Epoch 16, 30% \t train_loss: 0.98 took: 0.54s\n",
            "Epoch 16, 40% \t train_loss: 1.00 took: 0.53s\n",
            "Epoch 16, 50% \t train_loss: 0.97 took: 0.58s\n",
            "Epoch 16, 60% \t train_loss: 0.98 took: 0.54s\n",
            "Epoch 16, 70% \t train_loss: 0.97 took: 0.64s\n",
            "Epoch 16, 80% \t train_loss: 1.02 took: 0.60s\n",
            "Epoch 16, 90% \t train_loss: 0.95 took: 0.54s\n",
            "Validation loss = 1.10\n",
            "Epoch 17, 10% \t train_loss: 0.97 took: 0.65s\n",
            "Epoch 17, 20% \t train_loss: 0.93 took: 0.53s\n",
            "Epoch 17, 30% \t train_loss: 0.97 took: 0.57s\n",
            "Epoch 17, 40% \t train_loss: 1.00 took: 0.55s\n",
            "Epoch 17, 50% \t train_loss: 0.92 took: 0.54s\n",
            "Epoch 17, 60% \t train_loss: 0.95 took: 0.56s\n",
            "Epoch 17, 70% \t train_loss: 0.99 took: 0.56s\n",
            "Epoch 17, 80% \t train_loss: 0.92 took: 0.56s\n",
            "Epoch 17, 90% \t train_loss: 0.97 took: 0.57s\n",
            "Validation loss = 1.15\n",
            "Epoch 18, 10% \t train_loss: 0.92 took: 0.63s\n",
            "Epoch 18, 20% \t train_loss: 0.93 took: 0.54s\n",
            "Epoch 18, 30% \t train_loss: 0.94 took: 0.56s\n",
            "Epoch 18, 40% \t train_loss: 0.92 took: 0.54s\n",
            "Epoch 18, 50% \t train_loss: 0.89 took: 0.54s\n",
            "Epoch 18, 60% \t train_loss: 0.93 took: 0.55s\n",
            "Epoch 18, 70% \t train_loss: 0.95 took: 0.55s\n",
            "Epoch 18, 80% \t train_loss: 0.98 took: 0.54s\n",
            "Epoch 18, 90% \t train_loss: 0.93 took: 0.54s\n",
            "Validation loss = 1.08\n",
            "Epoch 19, 10% \t train_loss: 0.90 took: 0.66s\n",
            "Epoch 19, 20% \t train_loss: 0.91 took: 0.55s\n",
            "Epoch 19, 30% \t train_loss: 0.89 took: 0.54s\n",
            "Epoch 19, 40% \t train_loss: 0.94 took: 0.54s\n",
            "Epoch 19, 50% \t train_loss: 0.91 took: 0.55s\n",
            "Epoch 19, 60% \t train_loss: 0.95 took: 0.55s\n",
            "Epoch 19, 70% \t train_loss: 0.95 took: 0.54s\n",
            "Epoch 19, 80% \t train_loss: 0.88 took: 0.55s\n",
            "Epoch 19, 90% \t train_loss: 0.88 took: 0.55s\n",
            "Validation loss = 1.03\n",
            "Epoch 20, 10% \t train_loss: 0.85 took: 0.66s\n",
            "Epoch 20, 20% \t train_loss: 0.89 took: 0.60s\n",
            "Epoch 20, 30% \t train_loss: 0.88 took: 0.61s\n",
            "Epoch 20, 40% \t train_loss: 0.85 took: 0.54s\n",
            "Epoch 20, 50% \t train_loss: 0.93 took: 0.53s\n",
            "Epoch 20, 60% \t train_loss: 0.88 took: 0.55s\n",
            "Epoch 20, 70% \t train_loss: 0.90 took: 0.53s\n",
            "Epoch 20, 80% \t train_loss: 0.89 took: 0.56s\n",
            "Epoch 20, 90% \t train_loss: 0.90 took: 0.55s\n",
            "Validation loss = 1.04\n",
            "Training Finished, took 133.23s\n"
          ],
          "name": "stdout"
        }
      ]
    },
    {
      "cell_type": "markdown",
      "metadata": {
        "deletable": true,
        "editable": true,
        "id": "u7cgVbkDcaz9",
        "colab_type": "text"
      },
      "source": [
        "##### Losses Plot"
      ]
    },
    {
      "cell_type": "code",
      "metadata": {
        "deletable": true,
        "editable": true,
        "id": "XtXu67qbcaz-",
        "colab_type": "code",
        "outputId": "b6e840cd-27e9-4977-88a1-d624703b14b3",
        "colab": {
          "base_uri": "https://localhost:8080/",
          "height": 404
        }
      },
      "source": [
        "plot_losses(train_history, val_history)"
      ],
      "execution_count": 49,
      "outputs": [
        {
          "output_type": "display_data",
          "data": {
            "image/png": "[encoded data removed]",
            "text/plain": [
              "<Figure size 576x432 with 1 Axes>"
            ]
          },
          "metadata": {
            "tags": []
          }
        }
      ]
    },
    {
      "cell_type": "markdown",
      "metadata": {
        "deletable": true,
        "editable": true,
        "id": "TuGKgAMWcaz_",
        "colab_type": "text"
      },
      "source": [
        "##### Accuracy of the trained model"
      ]
    },
    {
      "cell_type": "code",
      "metadata": {
        "deletable": true,
        "editable": true,
        "id": "TWowqQhYca0B",
        "colab_type": "code",
        "outputId": "6463bc9b-e1e2-4651-b50d-160ecbc08c2f",
        "colab": {
          "base_uri": "https://localhost:8080/",
          "height": 68
        }
      },
      "source": [
        "compute_accuracy(net)"
      ],
      "execution_count": 50,
      "outputs": [
        {
          "output_type": "stream",
          "text": [
            "Accuracy of the network on the 20000 train images: 70.58 %\n",
            "Accuracy of the network on the 5000 validation images: 63.20 %\n",
            "Accuracy of the network on the 5000 test images: 62.90 %\n"
          ],
          "name": "stdout"
        }
      ]
    },
    {
      "cell_type": "code",
      "metadata": {
        "deletable": true,
        "editable": true,
        "id": "OKvmb4p-ca0I",
        "colab_type": "code",
        "outputId": "fe14d046-f471-4da2-a0c3-0751ea451c5c",
        "colab": {
          "base_uri": "https://localhost:8080/",
          "height": 204
        }
      },
      "source": [
        "confusion_matrix = accuracy_per_class(net)"
      ],
      "execution_count": 51,
      "outputs": [
        {
          "output_type": "stream",
          "text": [
            "Class      Accuracy (%)\n",
            "plane        71.11   \n",
            "car          78.81   \n",
            "bird         47.66   \n",
            "cat          45.67   \n",
            "deer         58.19   \n",
            "dog          52.05   \n",
            "frog         66.40   \n",
            "horse        64.85   \n",
            "ship         76.19   \n",
            "truck        65.89   \n"
          ],
          "name": "stdout"
        }
      ]
    },
    {
      "cell_type": "code",
      "metadata": {
        "deletable": true,
        "editable": true,
        "id": "ih5Pj0WBca0L",
        "colab_type": "code",
        "outputId": "d574a4ed-28c7-40a9-d935-359adde747b2",
        "colab": {
          "base_uri": "https://localhost:8080/",
          "height": 585
        }
      },
      "source": [
        "plot_confusion_matrix(confusion_matrix, classes,\n",
        "                      title='Confusion matrix, without normalization')"
      ],
      "execution_count": 52,
      "outputs": [
        {
          "output_type": "display_data",
          "data": {
            "image/png": "[encoded data removed]",
            "text/plain": [
              "<Figure size 576x576 with 2 Axes>"
            ]
          },
          "metadata": {
            "tags": []
          }
        }
      ]
    },
    {
      "cell_type": "markdown",
      "metadata": {
        "id": "ixgS82gROw7h",
        "colab_type": "text"
      },
      "source": [
        "## Truncated-adaptated VGG16"
      ]
    },
    {
      "cell_type": "markdown",
      "metadata": {
        "id": "yhsKt2eBcTzi",
        "colab_type": "text"
      },
      "source": [
        "![](https://markdown.data-ensta.fr/uploads/upload_ec7f0b1ae7aaa3b77c66d5f29f992087.png)"
      ]
    },
    {
      "cell_type": "code",
      "metadata": {
        "id": "UOIGejXgO3TM",
        "colab_type": "code",
        "colab": {}
      },
      "source": [
        "class MyConvolutionalNetwork(nn.Module):\n",
        "    def __init__(self):\n",
        "        super(MyConvolutionalNetwork, self).__init__()\n",
        "        self.conv_layer = nn.Sequential(\n",
        "        #### START CODE: ADD NEW LAYERS ####\n",
        "        # (do not forget to update `flattened_size`:\n",
        "        # the input size of the first fully connected layer self.fc1)\n",
        "        nn.Conv2d(in_channels=3, out_channels=64, kernel_size=3, padding=1),\n",
        "        nn.ReLU(inplace=True),\n",
        "        nn.Conv2d(in_channels=64, out_channels=64, kernel_size=3, padding=1),\n",
        "        nn.ReLU(inplace=True),\n",
        "        nn.BatchNorm2d(64),\n",
        "        nn.Dropout2d(p=0.05),\n",
        "        nn.MaxPool2d(kernel_size=2, stride=2),\n",
        "        # Conv Layer block 2\n",
        "        nn.Conv2d(in_channels=64, out_channels=128, kernel_size=3, padding=1),\n",
        "        nn.ReLU(inplace=True),\n",
        "        nn.Conv2d(in_channels=128, out_channels=128, kernel_size=3, padding=1),\n",
        "        nn.ReLU(inplace=True),\n",
        "        nn.BatchNorm2d(128),\n",
        "        nn.MaxPool2d(kernel_size=2, stride=2),\n",
        "        # Conv Layer block 3\n",
        "        nn.Conv2d(in_channels=128, out_channels=256, kernel_size=3, padding=1),\n",
        "        nn.ReLU(inplace=True),\n",
        "        nn.Conv2d(in_channels=256, out_channels=256, kernel_size=3, padding=1),\n",
        "        nn.ReLU(inplace=True),\n",
        "        nn.BatchNorm2d(256),\n",
        "        # nn.ReLU(inplace=True),\n",
        "        nn.MaxPool2d(kernel_size=2, stride=2),\n",
        "        )\n",
        "        ### END CODE ###\n",
        "        self.fc_layer = nn.Sequential(\n",
        "            nn.Dropout(p=0.1),\n",
        "            nn.Linear(4096, 1024),\n",
        "            nn.ReLU(inplace=True),\n",
        "            nn.Linear(1024, 512),\n",
        "            nn.ReLU(inplace=True),\n",
        "            nn.Dropout(p=0.1),\n",
        "            nn.Linear(512, 10)\n",
        "        )\n",
        "\n",
        "    def forward(self, x):\n",
        "        \"\"\"\n",
        "        Forward pass,\n",
        "        x shape is (batch_size, 3, 32, 32)\n",
        "        (color channel first)\n",
        "        in the comments, we omit the batch_size in the shape\n",
        "        \"\"\"\n",
        "        # shape : 3x32x32 -> 18x32x32\n",
        "        # conv layers\n",
        "        x = self.conv_layer(x)\n",
        "        \n",
        "        # flatten\n",
        "        x = x.view(x.size(0), -1)\n",
        "        \n",
        "        # fc layer\n",
        "        x = self.fc_layer(x)\n",
        "        return x"
      ],
      "execution_count": 0,
      "outputs": []
    },
    {
      "cell_type": "code",
      "metadata": {
        "id": "MdWTBHXAQvlD",
        "colab_type": "code",
        "colab": {
          "base_uri": "https://localhost:8080/",
          "height": 561
        },
        "outputId": "bec3365a-b6e2-4398-fb71-5f22d1cb93ad"
      },
      "source": [
        "net = MyConvolutionalNetwork()\n",
        "print(net)"
      ],
      "execution_count": 32,
      "outputs": [
        {
          "output_type": "stream",
          "text": [
            "MyConvolutionalNetwork(\n",
            "  (conv_layer): Sequential(\n",
            "    (0): Conv2d(3, 64, kernel_size=(3, 3), stride=(1, 1), padding=(1, 1))\n",
            "    (1): ReLU(inplace=True)\n",
            "    (2): Conv2d(64, 64, kernel_size=(3, 3), stride=(1, 1), padding=(1, 1))\n",
            "    (3): ReLU(inplace=True)\n",
            "    (4): BatchNorm2d(64, eps=1e-05, momentum=0.1, affine=True, track_running_stats=True)\n",
            "    (5): Dropout2d(p=0.05, inplace=False)\n",
            "    (6): MaxPool2d(kernel_size=2, stride=2, padding=0, dilation=1, ceil_mode=False)\n",
            "    (7): Conv2d(64, 128, kernel_size=(3, 3), stride=(1, 1), padding=(1, 1))\n",
            "    (8): ReLU(inplace=True)\n",
            "    (9): Conv2d(128, 128, kernel_size=(3, 3), stride=(1, 1), padding=(1, 1))\n",
            "    (10): ReLU(inplace=True)\n",
            "    (11): BatchNorm2d(128, eps=1e-05, momentum=0.1, affine=True, track_running_stats=True)\n",
            "    (12): MaxPool2d(kernel_size=2, stride=2, padding=0, dilation=1, ceil_mode=False)\n",
            "    (13): Conv2d(128, 256, kernel_size=(3, 3), stride=(1, 1), padding=(1, 1))\n",
            "    (14): ReLU(inplace=True)\n",
            "    (15): Conv2d(256, 256, kernel_size=(3, 3), stride=(1, 1), padding=(1, 1))\n",
            "    (16): ReLU(inplace=True)\n",
            "    (17): BatchNorm2d(256, eps=1e-05, momentum=0.1, affine=True, track_running_stats=True)\n",
            "    (18): MaxPool2d(kernel_size=2, stride=2, padding=0, dilation=1, ceil_mode=False)\n",
            "  )\n",
            "  (fc_layer): Sequential(\n",
            "    (0): Dropout(p=0.1, inplace=False)\n",
            "    (1): Linear(in_features=4096, out_features=1024, bias=True)\n",
            "    (2): ReLU(inplace=True)\n",
            "    (3): Linear(in_features=1024, out_features=512, bias=True)\n",
            "    (4): ReLU(inplace=True)\n",
            "    (5): Dropout(p=0.1, inplace=False)\n",
            "    (6): Linear(in_features=512, out_features=10, bias=True)\n",
            "  )\n",
            ")\n"
          ],
          "name": "stdout"
        }
      ]
    },
    {
      "cell_type": "code",
      "metadata": {
        "id": "nmgCUaWBikVp",
        "colab_type": "code",
        "colab": {
          "base_uri": "https://localhost:8080/",
          "height": 1000
        },
        "outputId": "c68c709a-6b6e-4ddc-e04f-a70a3d42b02d"
      },
      "source": [
        "net = MyConvolutionalNetwork()\n",
        "train_history, val_history = train(net, batch_size=32, n_epochs=30, learning_rate=0.001)"
      ],
      "execution_count": 33,
      "outputs": [
        {
          "output_type": "stream",
          "text": [
            "===== HYPERPARAMETERS =====\n",
            "batch_size= 32\n",
            "n_epochs= 30\n",
            "learning_rate= 0.001\n",
            "==============================\n",
            "Epoch 1, 10% \t train_loss: 2.08 took: 1.15s\n",
            "Epoch 1, 20% \t train_loss: 1.87 took: 0.97s\n",
            "Epoch 1, 30% \t train_loss: 1.81 took: 0.96s\n",
            "Epoch 1, 40% \t train_loss: 1.79 took: 0.94s\n",
            "Epoch 1, 50% \t train_loss: 1.73 took: 0.95s\n",
            "Epoch 1, 60% \t train_loss: 1.72 took: 0.99s\n",
            "Epoch 1, 70% \t train_loss: 1.63 took: 0.97s\n",
            "Epoch 1, 80% \t train_loss: 1.64 took: 0.98s\n",
            "Epoch 1, 90% \t train_loss: 1.63 took: 0.95s\n",
            "Validation loss = 1.47\n",
            "Epoch 2, 10% \t train_loss: 1.55 took: 1.05s\n",
            "Epoch 2, 20% \t train_loss: 1.51 took: 0.96s\n",
            "Epoch 2, 30% \t train_loss: 1.52 took: 0.95s\n",
            "Epoch 2, 40% \t train_loss: 1.51 took: 0.94s\n",
            "Epoch 2, 50% \t train_loss: 1.43 took: 0.95s\n",
            "Epoch 2, 60% \t train_loss: 1.38 took: 0.94s\n",
            "Epoch 2, 70% \t train_loss: 1.39 took: 0.96s\n",
            "Epoch 2, 80% \t train_loss: 1.40 took: 0.95s\n",
            "Epoch 2, 90% \t train_loss: 1.37 took: 0.97s\n",
            "Validation loss = 1.25\n",
            "Epoch 3, 10% \t train_loss: 1.24 took: 1.07s\n",
            "Epoch 3, 20% \t train_loss: 1.28 took: 0.96s\n",
            "Epoch 3, 30% \t train_loss: 1.31 took: 0.98s\n",
            "Epoch 3, 40% \t train_loss: 1.28 took: 0.97s\n",
            "Epoch 3, 50% \t train_loss: 1.24 took: 0.96s\n",
            "Epoch 3, 60% \t train_loss: 1.31 took: 0.99s\n",
            "Epoch 3, 70% \t train_loss: 1.31 took: 0.98s\n",
            "Epoch 3, 80% \t train_loss: 1.27 took: 0.99s\n",
            "Epoch 3, 90% \t train_loss: 1.21 took: 1.00s\n",
            "Validation loss = 1.14\n",
            "Epoch 4, 10% \t train_loss: 1.15 took: 1.08s\n",
            "Epoch 4, 20% \t train_loss: 1.19 took: 0.98s\n",
            "Epoch 4, 30% \t train_loss: 1.19 took: 0.97s\n",
            "Epoch 4, 40% \t train_loss: 1.12 took: 0.96s\n",
            "Epoch 4, 50% \t train_loss: 1.16 took: 0.96s\n",
            "Epoch 4, 60% \t train_loss: 1.18 took: 0.96s\n",
            "Epoch 4, 70% \t train_loss: 1.12 took: 0.99s\n",
            "Epoch 4, 80% \t train_loss: 1.12 took: 0.97s\n",
            "Epoch 4, 90% \t train_loss: 1.14 took: 0.97s\n",
            "Validation loss = 1.03\n",
            "Epoch 5, 10% \t train_loss: 1.05 took: 1.08s\n",
            "Epoch 5, 20% \t train_loss: 1.06 took: 0.97s\n",
            "Epoch 5, 30% \t train_loss: 1.14 took: 0.97s\n",
            "Epoch 5, 40% \t train_loss: 1.07 took: 0.97s\n",
            "Epoch 5, 50% \t train_loss: 1.09 took: 0.96s\n",
            "Epoch 5, 60% \t train_loss: 1.05 took: 0.97s\n",
            "Epoch 5, 70% \t train_loss: 1.02 took: 0.97s\n",
            "Epoch 5, 80% \t train_loss: 1.04 took: 0.97s\n",
            "Epoch 5, 90% \t train_loss: 1.06 took: 0.96s\n",
            "Validation loss = 1.00\n",
            "Epoch 6, 10% \t train_loss: 0.98 took: 1.08s\n",
            "Epoch 6, 20% \t train_loss: 0.96 took: 0.95s\n",
            "Epoch 6, 30% \t train_loss: 1.01 took: 0.96s\n",
            "Epoch 6, 40% \t train_loss: 1.02 took: 0.95s\n",
            "Epoch 6, 50% \t train_loss: 1.00 took: 0.96s\n",
            "Epoch 6, 60% \t train_loss: 0.98 took: 0.96s\n",
            "Epoch 6, 70% \t train_loss: 0.99 took: 0.95s\n",
            "Epoch 6, 80% \t train_loss: 0.97 took: 0.98s\n",
            "Epoch 6, 90% \t train_loss: 1.01 took: 0.97s\n",
            "Validation loss = 0.95\n",
            "Epoch 7, 10% \t train_loss: 0.90 took: 1.10s\n",
            "Epoch 7, 20% \t train_loss: 0.94 took: 0.95s\n",
            "Epoch 7, 30% \t train_loss: 0.94 took: 0.93s\n",
            "Epoch 7, 40% \t train_loss: 0.89 took: 0.96s\n",
            "Epoch 7, 50% \t train_loss: 0.95 took: 0.96s\n",
            "Epoch 7, 60% \t train_loss: 0.94 took: 0.95s\n",
            "Epoch 7, 70% \t train_loss: 0.99 took: 0.94s\n",
            "Epoch 7, 80% \t train_loss: 1.00 took: 0.95s\n",
            "Epoch 7, 90% \t train_loss: 0.96 took: 0.96s\n",
            "Validation loss = 0.93\n",
            "Epoch 8, 10% \t train_loss: 0.93 took: 1.05s\n",
            "Epoch 8, 20% \t train_loss: 0.89 took: 0.96s\n",
            "Epoch 8, 30% \t train_loss: 0.90 took: 0.96s\n",
            "Epoch 8, 40% \t train_loss: 0.90 took: 0.95s\n",
            "Epoch 8, 50% \t train_loss: 0.91 took: 0.94s\n",
            "Epoch 8, 60% \t train_loss: 0.90 took: 0.94s\n",
            "Epoch 8, 70% \t train_loss: 0.88 took: 0.94s\n",
            "Epoch 8, 80% \t train_loss: 0.91 took: 0.93s\n",
            "Epoch 8, 90% \t train_loss: 0.88 took: 0.95s\n",
            "Validation loss = 1.00\n",
            "Epoch 9, 10% \t train_loss: 0.90 took: 1.04s\n",
            "Epoch 9, 20% \t train_loss: 0.87 took: 0.94s\n",
            "Epoch 9, 30% \t train_loss: 0.88 took: 0.96s\n",
            "Epoch 9, 40% \t train_loss: 0.87 took: 0.95s\n",
            "Epoch 9, 50% \t train_loss: 0.87 took: 0.94s\n",
            "Epoch 9, 60% \t train_loss: 0.87 took: 0.95s\n",
            "Epoch 9, 70% \t train_loss: 0.87 took: 0.95s\n",
            "Epoch 9, 80% \t train_loss: 0.91 took: 1.00s\n",
            "Epoch 9, 90% \t train_loss: 0.87 took: 0.93s\n",
            "Validation loss = 0.93\n",
            "Epoch 10, 10% \t train_loss: 0.79 took: 1.04s\n",
            "Epoch 10, 20% \t train_loss: 0.81 took: 0.95s\n",
            "Epoch 10, 30% \t train_loss: 0.85 took: 0.94s\n",
            "Epoch 10, 40% \t train_loss: 0.90 took: 0.94s\n",
            "Epoch 10, 50% \t train_loss: 0.81 took: 0.94s\n",
            "Epoch 10, 60% \t train_loss: 0.86 took: 0.94s\n",
            "Epoch 10, 70% \t train_loss: 0.85 took: 0.92s\n",
            "Epoch 10, 80% \t train_loss: 0.92 took: 0.93s\n",
            "Epoch 10, 90% \t train_loss: 0.84 took: 0.94s\n",
            "Validation loss = 0.88\n",
            "Epoch 11, 10% \t train_loss: 0.79 took: 1.06s\n",
            "Epoch 11, 20% \t train_loss: 0.77 took: 0.95s\n",
            "Epoch 11, 30% \t train_loss: 0.80 took: 0.94s\n",
            "Epoch 11, 40% \t train_loss: 0.82 took: 0.95s\n",
            "Epoch 11, 50% \t train_loss: 0.85 took: 0.97s\n",
            "Epoch 11, 60% \t train_loss: 0.83 took: 0.95s\n",
            "Epoch 11, 70% \t train_loss: 0.88 took: 0.96s\n",
            "Epoch 11, 80% \t train_loss: 0.86 took: 0.95s\n",
            "Epoch 11, 90% \t train_loss: 0.83 took: 0.95s\n",
            "Validation loss = 0.83\n",
            "Epoch 12, 10% \t train_loss: 0.81 took: 1.05s\n",
            "Epoch 12, 20% \t train_loss: 0.78 took: 0.95s\n",
            "Epoch 12, 30% \t train_loss: 0.78 took: 0.94s\n",
            "Epoch 12, 40% \t train_loss: 0.81 took: 1.01s\n",
            "Epoch 12, 50% \t train_loss: 0.79 took: 0.95s\n",
            "Epoch 12, 60% \t train_loss: 0.86 took: 0.93s\n",
            "Epoch 12, 70% \t train_loss: 0.79 took: 0.95s\n",
            "Epoch 12, 80% \t train_loss: 0.79 took: 0.97s\n",
            "Epoch 12, 90% \t train_loss: 0.83 took: 0.94s\n",
            "Validation loss = 0.87\n",
            "Epoch 13, 10% \t train_loss: 0.75 took: 1.05s\n",
            "Epoch 13, 20% \t train_loss: 0.78 took: 0.95s\n",
            "Epoch 13, 30% \t train_loss: 0.79 took: 0.93s\n",
            "Epoch 13, 40% \t train_loss: 0.80 took: 0.94s\n",
            "Epoch 13, 50% \t train_loss: 0.79 took: 0.94s\n",
            "Epoch 13, 60% \t train_loss: 0.81 took: 0.95s\n",
            "Epoch 13, 70% \t train_loss: 0.76 took: 0.93s\n",
            "Epoch 13, 80% \t train_loss: 0.78 took: 0.93s\n",
            "Epoch 13, 90% \t train_loss: 0.84 took: 0.94s\n",
            "Validation loss = 0.85\n",
            "Epoch 14, 10% \t train_loss: 0.73 took: 1.03s\n",
            "Epoch 14, 20% \t train_loss: 0.76 took: 0.95s\n",
            "Epoch 14, 30% \t train_loss: 0.81 took: 0.94s\n",
            "Epoch 14, 40% \t train_loss: 0.74 took: 0.96s\n",
            "Epoch 14, 50% \t train_loss: 0.78 took: 0.97s\n",
            "Epoch 14, 60% \t train_loss: 0.79 took: 0.96s\n",
            "Epoch 14, 70% \t train_loss: 0.80 took: 0.94s\n",
            "Epoch 14, 80% \t train_loss: 0.77 took: 0.93s\n",
            "Epoch 14, 90% \t train_loss: 0.78 took: 0.94s\n",
            "Validation loss = 0.80\n",
            "Epoch 15, 10% \t train_loss: 0.74 took: 1.06s\n",
            "Epoch 15, 20% \t train_loss: 0.77 took: 0.95s\n",
            "Epoch 15, 30% \t train_loss: 0.73 took: 0.93s\n",
            "Epoch 15, 40% \t train_loss: 0.75 took: 0.94s\n",
            "Epoch 15, 50% \t train_loss: 0.76 took: 0.94s\n",
            "Epoch 15, 60% \t train_loss: 0.77 took: 0.94s\n",
            "Epoch 15, 70% \t train_loss: 0.77 took: 0.94s\n",
            "Epoch 15, 80% \t train_loss: 0.77 took: 0.94s\n",
            "Epoch 15, 90% \t train_loss: 0.75 took: 0.94s\n",
            "Validation loss = 0.82\n",
            "Epoch 16, 10% \t train_loss: 0.72 took: 1.07s\n",
            "Epoch 16, 20% \t train_loss: 0.72 took: 0.93s\n",
            "Epoch 16, 30% \t train_loss: 0.73 took: 0.94s\n",
            "Epoch 16, 40% \t train_loss: 0.72 took: 0.94s\n",
            "Epoch 16, 50% \t train_loss: 0.73 took: 0.94s\n",
            "Epoch 16, 60% \t train_loss: 0.73 took: 0.93s\n",
            "Epoch 16, 70% \t train_loss: 0.80 took: 0.94s\n",
            "Epoch 16, 80% \t train_loss: 0.77 took: 0.95s\n",
            "Epoch 16, 90% \t train_loss: 0.76 took: 0.95s\n",
            "Validation loss = 0.81\n",
            "Epoch 17, 10% \t train_loss: 0.69 took: 1.04s\n",
            "Epoch 17, 20% \t train_loss: 0.69 took: 0.94s\n",
            "Epoch 17, 30% \t train_loss: 0.70 took: 0.94s\n",
            "Epoch 17, 40% \t train_loss: 0.72 took: 0.97s\n",
            "Epoch 17, 50% \t train_loss: 0.78 took: 0.94s\n",
            "Epoch 17, 60% \t train_loss: 0.75 took: 0.94s\n",
            "Epoch 17, 70% \t train_loss: 0.71 took: 0.94s\n",
            "Epoch 17, 80% \t train_loss: 0.72 took: 0.92s\n",
            "Epoch 17, 90% \t train_loss: 0.78 took: 0.96s\n",
            "Validation loss = 0.79\n",
            "Epoch 18, 10% \t train_loss: 0.64 took: 1.06s\n",
            "Epoch 18, 20% \t train_loss: 0.71 took: 0.95s\n",
            "Epoch 18, 30% \t train_loss: 0.67 took: 0.94s\n",
            "Epoch 18, 40% \t train_loss: 0.73 took: 0.97s\n",
            "Epoch 18, 50% \t train_loss: 0.74 took: 0.94s\n",
            "Epoch 18, 60% \t train_loss: 0.72 took: 0.94s\n",
            "Epoch 18, 70% \t train_loss: 0.76 took: 0.95s\n",
            "Epoch 18, 80% \t train_loss: 0.82 took: 0.94s\n",
            "Epoch 18, 90% \t train_loss: 0.76 took: 0.94s\n",
            "Validation loss = 0.81\n",
            "Epoch 19, 10% \t train_loss: 0.70 took: 1.05s\n",
            "Epoch 19, 20% \t train_loss: 0.72 took: 0.94s\n",
            "Epoch 19, 30% \t train_loss: 0.72 took: 0.93s\n",
            "Epoch 19, 40% \t train_loss: 0.70 took: 0.94s\n",
            "Epoch 19, 50% \t train_loss: 0.64 took: 0.94s\n",
            "Epoch 19, 60% \t train_loss: 0.73 took: 0.93s\n",
            "Epoch 19, 70% \t train_loss: 0.74 took: 0.94s\n",
            "Epoch 19, 80% \t train_loss: 0.77 took: 0.93s\n",
            "Epoch 19, 90% \t train_loss: 0.75 took: 0.93s\n",
            "Validation loss = 0.78\n",
            "Epoch 20, 10% \t train_loss: 0.68 took: 1.05s\n",
            "Epoch 20, 20% \t train_loss: 0.71 took: 0.93s\n",
            "Epoch 20, 30% \t train_loss: 0.69 took: 0.94s\n",
            "Epoch 20, 40% \t train_loss: 0.68 took: 0.94s\n",
            "Epoch 20, 50% \t train_loss: 0.74 took: 0.93s\n",
            "Epoch 20, 60% \t train_loss: 0.68 took: 0.95s\n",
            "Epoch 20, 70% \t train_loss: 0.70 took: 0.96s\n",
            "Epoch 20, 80% \t train_loss: 0.74 took: 0.94s\n",
            "Epoch 20, 90% \t train_loss: 0.79 took: 0.93s\n",
            "Validation loss = 0.78\n",
            "Epoch 21, 10% \t train_loss: 0.65 took: 1.05s\n",
            "Epoch 21, 20% \t train_loss: 0.67 took: 0.96s\n",
            "Epoch 21, 30% \t train_loss: 0.75 took: 0.94s\n",
            "Epoch 21, 40% \t train_loss: 0.73 took: 0.95s\n",
            "Epoch 21, 50% \t train_loss: 0.67 took: 0.95s\n",
            "Epoch 21, 60% \t train_loss: 0.77 took: 0.96s\n",
            "Epoch 21, 70% \t train_loss: 0.75 took: 0.94s\n",
            "Epoch 21, 80% \t train_loss: 0.72 took: 0.97s\n",
            "Epoch 21, 90% \t train_loss: 0.70 took: 0.94s\n",
            "Validation loss = 0.81\n",
            "Epoch 22, 10% \t train_loss: 0.66 took: 1.04s\n",
            "Epoch 22, 20% \t train_loss: 0.68 took: 0.94s\n",
            "Epoch 22, 30% \t train_loss: 0.69 took: 0.96s\n",
            "Epoch 22, 40% \t train_loss: 0.69 took: 0.94s\n",
            "Epoch 22, 50% \t train_loss: 0.72 took: 0.94s\n",
            "Epoch 22, 60% \t train_loss: 0.73 took: 0.95s\n",
            "Epoch 22, 70% \t train_loss: 0.72 took: 0.95s\n",
            "Epoch 22, 80% \t train_loss: 0.69 took: 0.94s\n",
            "Epoch 22, 90% \t train_loss: 0.75 took: 0.94s\n",
            "Validation loss = 0.75\n",
            "Epoch 23, 10% \t train_loss: 0.63 took: 1.05s\n",
            "Epoch 23, 20% \t train_loss: 0.65 took: 0.94s\n",
            "Epoch 23, 30% \t train_loss: 0.68 took: 0.95s\n",
            "Epoch 23, 40% \t train_loss: 0.71 took: 0.97s\n",
            "Epoch 23, 50% \t train_loss: 0.69 took: 0.94s\n",
            "Epoch 23, 60% \t train_loss: 0.71 took: 0.94s\n",
            "Epoch 23, 70% \t train_loss: 0.72 took: 0.98s\n",
            "Epoch 23, 80% \t train_loss: 0.72 took: 0.95s\n",
            "Epoch 23, 90% \t train_loss: 0.71 took: 0.93s\n",
            "Validation loss = 0.79\n",
            "Epoch 24, 10% \t train_loss: 0.61 took: 1.02s\n",
            "Epoch 24, 20% \t train_loss: 0.71 took: 0.93s\n",
            "Epoch 24, 30% \t train_loss: 0.67 took: 0.95s\n",
            "Epoch 24, 40% \t train_loss: 0.66 took: 0.95s\n",
            "Epoch 24, 50% \t train_loss: 0.68 took: 0.94s\n",
            "Epoch 24, 60% \t train_loss: 0.71 took: 0.95s\n",
            "Epoch 24, 70% \t train_loss: 0.74 took: 0.95s\n",
            "Epoch 24, 80% \t train_loss: 0.73 took: 0.94s\n",
            "Epoch 24, 90% \t train_loss: 0.72 took: 0.94s\n",
            "Validation loss = 0.79\n",
            "Epoch 25, 10% \t train_loss: 0.63 took: 1.05s\n",
            "Epoch 25, 20% \t train_loss: 0.66 took: 0.94s\n",
            "Epoch 25, 30% \t train_loss: 0.66 took: 0.95s\n",
            "Epoch 25, 40% \t train_loss: 0.71 took: 0.95s\n",
            "Epoch 25, 50% \t train_loss: 0.67 took: 0.93s\n",
            "Epoch 25, 60% \t train_loss: 0.71 took: 0.94s\n",
            "Epoch 25, 70% \t train_loss: 0.71 took: 0.94s\n",
            "Epoch 25, 80% \t train_loss: 0.72 took: 0.95s\n",
            "Epoch 25, 90% \t train_loss: 0.67 took: 0.94s\n",
            "Validation loss = 0.81\n",
            "Epoch 26, 10% \t train_loss: 0.66 took: 1.06s\n",
            "Epoch 26, 20% \t train_loss: 0.62 took: 0.97s\n",
            "Epoch 26, 30% \t train_loss: 0.65 took: 0.94s\n",
            "Epoch 26, 40% \t train_loss: 0.70 took: 0.92s\n",
            "Epoch 26, 50% \t train_loss: 0.69 took: 0.93s\n",
            "Epoch 26, 60% \t train_loss: 0.70 took: 0.95s\n",
            "Epoch 26, 70% \t train_loss: 0.73 took: 0.92s\n",
            "Epoch 26, 80% \t train_loss: 0.68 took: 0.93s\n",
            "Epoch 26, 90% \t train_loss: 0.70 took: 0.93s\n",
            "Validation loss = 0.80\n",
            "Epoch 27, 10% \t train_loss: 0.63 took: 1.03s\n",
            "Epoch 27, 20% \t train_loss: 0.68 took: 0.97s\n",
            "Epoch 27, 30% \t train_loss: 0.64 took: 0.94s\n",
            "Epoch 27, 40% \t train_loss: 0.65 took: 0.94s\n",
            "Epoch 27, 50% \t train_loss: 0.67 took: 0.95s\n",
            "Epoch 27, 60% \t train_loss: 0.66 took: 0.95s\n",
            "Epoch 27, 70% \t train_loss: 0.67 took: 0.94s\n",
            "Epoch 27, 80% \t train_loss: 0.71 took: 0.94s\n",
            "Epoch 27, 90% \t train_loss: 0.74 took: 0.93s\n",
            "Validation loss = 0.78\n",
            "Epoch 28, 10% \t train_loss: 0.65 took: 1.05s\n",
            "Epoch 28, 20% \t train_loss: 0.63 took: 0.92s\n",
            "Epoch 28, 30% \t train_loss: 0.69 took: 0.96s\n",
            "Epoch 28, 40% \t train_loss: 0.66 took: 0.94s\n",
            "Epoch 28, 50% \t train_loss: 0.72 took: 0.95s\n",
            "Epoch 28, 60% \t train_loss: 0.73 took: 0.97s\n",
            "Epoch 28, 70% \t train_loss: 0.68 took: 0.95s\n",
            "Epoch 28, 80% \t train_loss: 0.73 took: 0.95s\n",
            "Epoch 28, 90% \t train_loss: 0.71 took: 0.95s\n",
            "Validation loss = 0.76\n",
            "Epoch 29, 10% \t train_loss: 0.58 took: 1.07s\n",
            "Epoch 29, 20% \t train_loss: 0.66 took: 0.95s\n",
            "Epoch 29, 30% \t train_loss: 0.64 took: 0.98s\n",
            "Epoch 29, 40% \t train_loss: 0.68 took: 0.95s\n",
            "Epoch 29, 50% \t train_loss: 0.69 took: 0.94s\n",
            "Epoch 29, 60% \t train_loss: 0.67 took: 0.94s\n",
            "Epoch 29, 70% \t train_loss: 0.69 took: 0.98s\n",
            "Epoch 29, 80% \t train_loss: 0.72 took: 0.96s\n",
            "Epoch 29, 90% \t train_loss: 0.70 took: 0.94s\n",
            "Validation loss = 0.77\n",
            "Epoch 30, 10% \t train_loss: 0.63 took: 1.04s\n",
            "Epoch 30, 20% \t train_loss: 0.64 took: 0.95s\n",
            "Epoch 30, 30% \t train_loss: 0.68 took: 0.95s\n",
            "Epoch 30, 40% \t train_loss: 0.65 took: 0.94s\n",
            "Epoch 30, 50% \t train_loss: 0.66 took: 0.93s\n",
            "Epoch 30, 60% \t train_loss: 0.73 took: 0.93s\n",
            "Epoch 30, 70% \t train_loss: 0.66 took: 0.93s\n",
            "Epoch 30, 80% \t train_loss: 0.73 took: 0.95s\n",
            "Epoch 30, 90% \t train_loss: 0.71 took: 0.94s\n",
            "Validation loss = 0.76\n",
            "Training Finished, took 320.45s\n"
          ],
          "name": "stdout"
        }
      ]
    },
    {
      "cell_type": "code",
      "metadata": {
        "id": "ydhdu2_lQpyl",
        "colab_type": "code",
        "colab": {
          "base_uri": "https://localhost:8080/",
          "height": 404
        },
        "outputId": "91fdef70-9eec-4d22-df80-ff748ab2685a"
      },
      "source": [
        "plot_losses(train_history, val_history)"
      ],
      "execution_count": 34,
      "outputs": [
        {
          "output_type": "display_data",
          "data": {
            "image/png": "[encoded data removed]",
            "text/plain": [
              "<Figure size 576x432 with 1 Axes>"
            ]
          },
          "metadata": {
            "tags": []
          }
        }
      ]
    },
    {
      "cell_type": "code",
      "metadata": {
        "id": "NjUqJKBdRT3w",
        "colab_type": "code",
        "colab": {
          "base_uri": "https://localhost:8080/",
          "height": 68
        },
        "outputId": "bca8a278-1fbb-4ffc-a136-3ce556de0b5c"
      },
      "source": [
        "compute_accuracy(net)"
      ],
      "execution_count": 35,
      "outputs": [
        {
          "output_type": "stream",
          "text": [
            "Accuracy of the network on the 20000 train images: 73.77 %\n",
            "Accuracy of the network on the 5000 validation images: 73.52 %\n",
            "Accuracy of the network on the 5000 test images: 68.88 %\n"
          ],
          "name": "stdout"
        }
      ]
    },
    {
      "cell_type": "markdown",
      "metadata": {
        "id": "D2qbzgVVlZIW",
        "colab_type": "text"
      },
      "source": [
        "## Adapted Full VGG16"
      ]
    },
    {
      "cell_type": "markdown",
      "metadata": {
        "id": "vxE5ypvClh24",
        "colab_type": "text"
      },
      "source": [
        "![](https://markdown.data-ensta.fr/uploads/upload_e15d93ea501731ba1de63b127e1d610b.png)\n",
        "\n",
        "NB: dense layers are not shown in this picture.\n",
        "This model takes very long time to train so we ran it only once, not in this notebook. Result for 40 epochs is shown in report. You are welcome to run it here."
      ]
    },
    {
      "cell_type": "code",
      "metadata": {
        "id": "_JS1gzEPlfuD",
        "colab_type": "code",
        "colab": {}
      },
      "source": [
        "class MyConvolutionalNetwork(nn.Module):\n",
        "    def __init__(self):\n",
        "        super(MyConvolutionalNetwork, self).__init__()\n",
        "        self.conv_layer = nn.Sequential(\n",
        "        #### START CODE: ADD NEW LAYERS ####\n",
        "        # (do not forget to update `flattened_size`:\n",
        "        # the input size of the first fully connected layer self.fc1)\n",
        "        nn.Conv2d(in_channels=3, out_channels=64, kernel_size=3, padding=1),\n",
        "        nn.ReLU(inplace=True),\n",
        "        nn.Conv2d(in_channels=64, out_channels=64, kernel_size=3, padding=1),\n",
        "        nn.ReLU(inplace=True),\n",
        "        nn.BatchNorm2d(64),\n",
        "        nn.Dropout2d(p=0.05),\n",
        "        nn.MaxPool2d(kernel_size=2, stride=2),\n",
        "        # Conv Layer block 2\n",
        "        nn.Conv2d(in_channels=64, out_channels=128, kernel_size=3, padding=1),\n",
        "        nn.ReLU(inplace=True),\n",
        "        nn.Conv2d(in_channels=128, out_channels=128, kernel_size=3, padding=1),\n",
        "        nn.ReLU(inplace=True),\n",
        "        nn.BatchNorm2d(128),\n",
        "        nn.MaxPool2d(kernel_size=2, stride=1),\n",
        "        # Conv Layer block 3\n",
        "        nn.Conv2d(in_channels=128, out_channels=256, kernel_size=3, padding=1),\n",
        "        nn.ReLU(inplace=True),\n",
        "        nn.Conv2d(in_channels=256, out_channels=256, kernel_size=3, padding=1),\n",
        "        nn.ReLU(inplace=True),\n",
        "        nn.BatchNorm2d(256),      \n",
        "        nn.MaxPool2d(kernel_size=2, stride=1),\n",
        "        # Conv Layer block 4\n",
        "        nn.Conv2d(in_channels=256, out_channels=512, kernel_size=3, padding=1),\n",
        "        nn.ReLU(inplace=True),\n",
        "        nn.Conv2d(in_channels=512, out_channels=512, kernel_size=3, padding=1),\n",
        "        nn.ReLU(inplace=True),\n",
        "        nn.Conv2d(in_channels=512, out_channels=512, kernel_size=3, padding=1),\n",
        "        nn.ReLU(inplace=True),\n",
        "        nn.BatchNorm2d(512),\n",
        "        nn.MaxPool2d(kernel_size=2, stride=1),\n",
        "        # Conv Layer block 5\n",
        "        nn.Conv2d(in_channels=512, out_channels=512, kernel_size=3, padding=1),\n",
        "        nn.ReLU(inplace=True),\n",
        "        nn.Conv2d(in_channels=512, out_channels=512, kernel_size=3, padding=1),\n",
        "        nn.ReLU(inplace=True),\n",
        "        nn.Conv2d(in_channels=512, out_channels=512, kernel_size=3, padding=1),\n",
        "        nn.ReLU(inplace=True),\n",
        "        nn.BatchNorm2d(512),\n",
        "        nn.MaxPool2d(kernel_size=2, stride=1),\n",
        "        )\n",
        "        ### END CODE ###\n",
        "        self.fc_layer = nn.Sequential(\n",
        "            nn.Dropout(p=0.1),\n",
        "            nn.Linear(12*12*512 , 4096),\n",
        "            nn.ReLU(inplace=True),\n",
        "            nn.Linear(4096, 4096),\n",
        "            nn.ReLU(inplace=True),\n",
        "            # nn.Dropout(p=0.1),\n",
        "            nn.Linear(4096, 10)\n",
        "        )\n",
        "\n",
        "    def forward(self, x):\n",
        "        \"\"\"\n",
        "        Forward pass,\n",
        "        x shape is (batch_size, 3, 32, 32)\n",
        "        (color channel first)\n",
        "        in the comments, we omit the batch_size in the shape\n",
        "        \"\"\"\n",
        "        # shape : 3x32x32 -> 18x32x32\n",
        "        # conv layers\n",
        "        x = self.conv_layer(x)\n",
        "        \n",
        "        # flatten\n",
        "        x = x.view(x.size(0), -1)\n",
        "        \n",
        "        # fc layer\n",
        "        x = self.fc_layer(x)\n",
        "        return x"
      ],
      "execution_count": 0,
      "outputs": []
    },
    {
      "cell_type": "code",
      "metadata": {
        "id": "IKuQgSWvp41u",
        "colab_type": "code",
        "colab": {
          "base_uri": "https://localhost:8080/",
          "height": 521
        },
        "outputId": "944e21e7-1a26-41a3-8566-08c3f5882b36"
      },
      "source": [
        "net = MyConvolutionalNetwork()\n",
        "train_history, val_history = train(net, batch_size=32, n_epochs=30, learning_rate=0.001)"
      ],
      "execution_count": 37,
      "outputs": [
        {
          "output_type": "stream",
          "text": [
            "===== HYPERPARAMETERS =====\n",
            "batch_size= 32\n",
            "n_epochs= 30\n",
            "learning_rate= 0.001\n",
            "==============================\n",
            "Epoch 1, 10% \t train_loss: 5.09 took: 18.38s\n",
            "Epoch 1, 20% \t train_loss: 2.27 took: 18.47s\n",
            "Epoch 1, 30% \t train_loss: 2.17 took: 18.27s\n",
            "Epoch 1, 40% \t train_loss: 2.06 took: 18.12s\n",
            "Epoch 1, 50% \t train_loss: 1.98 took: 18.16s\n",
            "Epoch 1, 60% \t train_loss: 1.90 took: 18.27s\n",
            "Epoch 1, 70% \t train_loss: 1.88 took: 18.28s\n",
            "Epoch 1, 80% \t train_loss: 1.89 took: 18.24s\n"
          ],
          "name": "stdout"
        },
        {
          "output_type": "error",
          "ename": "KeyboardInterrupt",
          "evalue": "ignored",
          "traceback": [
            "\u001b[0;31m---------------------------------------------------------------------------\u001b[0m",
            "\u001b[0;31mKeyboardInterrupt\u001b[0m                         Traceback (most recent call last)",
            "\u001b[0;32m<ipython-input-37-720f77be6783>\u001b[0m in \u001b[0;36m<module>\u001b[0;34m()\u001b[0m\n\u001b[1;32m      1\u001b[0m \u001b[0mnet\u001b[0m \u001b[0;34m=\u001b[0m \u001b[0mMyConvolutionalNetwork\u001b[0m\u001b[0;34m(\u001b[0m\u001b[0;34m)\u001b[0m\u001b[0;34m\u001b[0m\u001b[0;34m\u001b[0m\u001b[0m\n\u001b[0;32m----> 2\u001b[0;31m \u001b[0mtrain_history\u001b[0m\u001b[0;34m,\u001b[0m \u001b[0mval_history\u001b[0m \u001b[0;34m=\u001b[0m \u001b[0mtrain\u001b[0m\u001b[0;34m(\u001b[0m\u001b[0mnet\u001b[0m\u001b[0;34m,\u001b[0m \u001b[0mbatch_size\u001b[0m\u001b[0;34m=\u001b[0m\u001b[0;36m32\u001b[0m\u001b[0;34m,\u001b[0m \u001b[0mn_epochs\u001b[0m\u001b[0;34m=\u001b[0m\u001b[0;36m30\u001b[0m\u001b[0;34m,\u001b[0m \u001b[0mlearning_rate\u001b[0m\u001b[0;34m=\u001b[0m\u001b[0;36m0.001\u001b[0m\u001b[0;34m)\u001b[0m\u001b[0;34m\u001b[0m\u001b[0;34m\u001b[0m\u001b[0m\n\u001b[0m",
            "\u001b[0;32m<ipython-input-18-99a49023fef6>\u001b[0m in \u001b[0;36mtrain\u001b[0;34m(net, batch_size, n_epochs, learning_rate)\u001b[0m\n\u001b[1;32m     51\u001b[0m \u001b[0;34m\u001b[0m\u001b[0m\n\u001b[1;32m     52\u001b[0m             \u001b[0;31m# print statistics\u001b[0m\u001b[0;34m\u001b[0m\u001b[0;34m\u001b[0m\u001b[0;34m\u001b[0m\u001b[0m\n\u001b[0;32m---> 53\u001b[0;31m             \u001b[0mrunning_loss\u001b[0m \u001b[0;34m+=\u001b[0m \u001b[0mloss\u001b[0m\u001b[0;34m.\u001b[0m\u001b[0mitem\u001b[0m\u001b[0;34m(\u001b[0m\u001b[0;34m)\u001b[0m\u001b[0;34m\u001b[0m\u001b[0;34m\u001b[0m\u001b[0m\n\u001b[0m\u001b[1;32m     54\u001b[0m             \u001b[0mtotal_train_loss\u001b[0m \u001b[0;34m+=\u001b[0m \u001b[0mloss\u001b[0m\u001b[0;34m.\u001b[0m\u001b[0mitem\u001b[0m\u001b[0;34m(\u001b[0m\u001b[0;34m)\u001b[0m\u001b[0;34m\u001b[0m\u001b[0;34m\u001b[0m\u001b[0m\n\u001b[1;32m     55\u001b[0m \u001b[0;34m\u001b[0m\u001b[0m\n",
            "\u001b[0;31mKeyboardInterrupt\u001b[0m: "
          ]
        }
      ]
    }
  ]
}